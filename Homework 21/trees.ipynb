{
 "cells": [
  {
   "cell_type": "code",
   "execution_count": 1,
   "metadata": {
    "tags": []
   },
   "outputs": [
    {
     "output_type": "stream",
     "name": "stdout",
     "text": "Collecting sklearn\n  Downloading https://files.pythonhosted.org/packages/1e/7a/dbb3be0ce9bd5c8b7e3d87328e79063f8b263b2b1bfa4774cb1147bfcd3f/sklearn-0.0.tar.gz\nRequirement already satisfied, skipping upgrade: scikit-learn in c:\\users\\chris\\anaconda3\\lib\\site-packages (from sklearn) (0.23.1)\nRequirement already satisfied, skipping upgrade: scipy>=0.19.1 in c:\\users\\chris\\anaconda3\\lib\\site-packages (from scikit-learn->sklearn) (1.4.1)\nRequirement already satisfied, skipping upgrade: numpy>=1.13.3 in c:\\users\\chris\\anaconda3\\lib\\site-packages (from scikit-learn->sklearn) (1.16.5)\nRequirement already satisfied, skipping upgrade: joblib>=0.11 in c:\\users\\chris\\anaconda3\\lib\\site-packages (from scikit-learn->sklearn) (0.13.2)\nRequirement already satisfied, skipping upgrade: threadpoolctl>=2.0.0 in c:\\users\\chris\\anaconda3\\lib\\site-packages (from scikit-learn->sklearn) (2.0.0)\nBuilding wheels for collected packages: sklearn\n  Building wheel for sklearn (setup.py): started\n  Building wheel for sklearn (setup.py): finished with status 'done'\n  Created wheel for sklearn: filename=sklearn-0.0-py2.py3-none-any.whl size=1321 sha256=2a6952722d014aa842dec742292cb4d2a32635030c8bce8f4e004d79348ea960\n  Stored in directory: C:\\Users\\Chris\\AppData\\Local\\pip\\Cache\\wheels\\76\\03\\bb\\589d421d27431bcd2c6da284d5f2286c8e3b2ea3cf1594c074\nSuccessfully built sklearn\nInstalling collected packages: sklearn\nSuccessfully installed sklearn-0.0\n"
    }
   ],
   "source": [
    "# Update sklearn to prevent version mismatches\n",
    "!pip install sklearn --upgrade"
   ]
  },
  {
   "cell_type": "code",
   "execution_count": 2,
   "metadata": {
    "tags": []
   },
   "outputs": [
    {
     "output_type": "stream",
     "name": "stdout",
     "text": "Requirement already satisfied: joblib in c:\\users\\chris\\anaconda3\\lib\\site-packages (0.13.2)\n"
    }
   ],
   "source": [
    "# install joblib. This will be used to save your model. \n",
    "# Restart your kernel after installing \n",
    "!pip install joblib"
   ]
  },
  {
   "cell_type": "code",
   "execution_count": 3,
   "metadata": {},
   "outputs": [],
   "source": [
    "import pandas as pd"
   ]
  },
  {
   "cell_type": "markdown",
   "metadata": {},
   "source": [
    "# Read the CSV and Perform Basic Data Cleaning"
   ]
  },
  {
   "cell_type": "code",
   "execution_count": 4,
   "metadata": {},
   "outputs": [
    {
     "output_type": "execute_result",
     "data": {
      "text/plain": "  koi_disposition  koi_fpflag_nt  koi_fpflag_ss  koi_fpflag_co  koi_fpflag_ec  \\\n0       CONFIRMED              0              0              0              0   \n1  FALSE POSITIVE              0              1              0              0   \n2  FALSE POSITIVE              0              1              0              0   \n3       CONFIRMED              0              0              0              0   \n4       CONFIRMED              0              0              0              0   \n\n   koi_period  koi_period_err1  koi_period_err2  koi_time0bk  \\\n0   54.418383     2.479000e-04    -2.479000e-04   162.513840   \n1   19.899140     1.490000e-05    -1.490000e-05   175.850252   \n2    1.736952     2.630000e-07    -2.630000e-07   170.307565   \n3    2.525592     3.760000e-06    -3.760000e-06   171.595550   \n4    4.134435     1.050000e-05    -1.050000e-05   172.979370   \n\n   koi_time0bk_err1  ...  koi_steff_err2  koi_slogg  koi_slogg_err1  \\\n0          0.003520  ...             -81      4.467           0.064   \n1          0.000581  ...            -176      4.544           0.044   \n2          0.000115  ...            -174      4.564           0.053   \n3          0.001130  ...            -211      4.438           0.070   \n4          0.001900  ...            -232      4.486           0.054   \n\n   koi_slogg_err2  koi_srad  koi_srad_err1  koi_srad_err2         ra  \\\n0          -0.096     0.927          0.105         -0.061  291.93423   \n1          -0.176     0.868          0.233         -0.078  297.00482   \n2          -0.168     0.791          0.201         -0.067  285.53461   \n3          -0.210     1.046          0.334         -0.133  288.75488   \n4          -0.229     0.972          0.315         -0.105  296.28613   \n\n         dec  koi_kepmag  \n0  48.141651      15.347  \n1  48.134129      15.436  \n2  48.285210      15.597  \n3  48.226200      15.509  \n4  48.224670      15.714  \n\n[5 rows x 41 columns]",
      "text/html": "<div>\n<style scoped>\n    .dataframe tbody tr th:only-of-type {\n        vertical-align: middle;\n    }\n\n    .dataframe tbody tr th {\n        vertical-align: top;\n    }\n\n    .dataframe thead th {\n        text-align: right;\n    }\n</style>\n<table border=\"1\" class=\"dataframe\">\n  <thead>\n    <tr style=\"text-align: right;\">\n      <th></th>\n      <th>koi_disposition</th>\n      <th>koi_fpflag_nt</th>\n      <th>koi_fpflag_ss</th>\n      <th>koi_fpflag_co</th>\n      <th>koi_fpflag_ec</th>\n      <th>koi_period</th>\n      <th>koi_period_err1</th>\n      <th>koi_period_err2</th>\n      <th>koi_time0bk</th>\n      <th>koi_time0bk_err1</th>\n      <th>...</th>\n      <th>koi_steff_err2</th>\n      <th>koi_slogg</th>\n      <th>koi_slogg_err1</th>\n      <th>koi_slogg_err2</th>\n      <th>koi_srad</th>\n      <th>koi_srad_err1</th>\n      <th>koi_srad_err2</th>\n      <th>ra</th>\n      <th>dec</th>\n      <th>koi_kepmag</th>\n    </tr>\n  </thead>\n  <tbody>\n    <tr>\n      <td>0</td>\n      <td>CONFIRMED</td>\n      <td>0</td>\n      <td>0</td>\n      <td>0</td>\n      <td>0</td>\n      <td>54.418383</td>\n      <td>2.479000e-04</td>\n      <td>-2.479000e-04</td>\n      <td>162.513840</td>\n      <td>0.003520</td>\n      <td>...</td>\n      <td>-81</td>\n      <td>4.467</td>\n      <td>0.064</td>\n      <td>-0.096</td>\n      <td>0.927</td>\n      <td>0.105</td>\n      <td>-0.061</td>\n      <td>291.93423</td>\n      <td>48.141651</td>\n      <td>15.347</td>\n    </tr>\n    <tr>\n      <td>1</td>\n      <td>FALSE POSITIVE</td>\n      <td>0</td>\n      <td>1</td>\n      <td>0</td>\n      <td>0</td>\n      <td>19.899140</td>\n      <td>1.490000e-05</td>\n      <td>-1.490000e-05</td>\n      <td>175.850252</td>\n      <td>0.000581</td>\n      <td>...</td>\n      <td>-176</td>\n      <td>4.544</td>\n      <td>0.044</td>\n      <td>-0.176</td>\n      <td>0.868</td>\n      <td>0.233</td>\n      <td>-0.078</td>\n      <td>297.00482</td>\n      <td>48.134129</td>\n      <td>15.436</td>\n    </tr>\n    <tr>\n      <td>2</td>\n      <td>FALSE POSITIVE</td>\n      <td>0</td>\n      <td>1</td>\n      <td>0</td>\n      <td>0</td>\n      <td>1.736952</td>\n      <td>2.630000e-07</td>\n      <td>-2.630000e-07</td>\n      <td>170.307565</td>\n      <td>0.000115</td>\n      <td>...</td>\n      <td>-174</td>\n      <td>4.564</td>\n      <td>0.053</td>\n      <td>-0.168</td>\n      <td>0.791</td>\n      <td>0.201</td>\n      <td>-0.067</td>\n      <td>285.53461</td>\n      <td>48.285210</td>\n      <td>15.597</td>\n    </tr>\n    <tr>\n      <td>3</td>\n      <td>CONFIRMED</td>\n      <td>0</td>\n      <td>0</td>\n      <td>0</td>\n      <td>0</td>\n      <td>2.525592</td>\n      <td>3.760000e-06</td>\n      <td>-3.760000e-06</td>\n      <td>171.595550</td>\n      <td>0.001130</td>\n      <td>...</td>\n      <td>-211</td>\n      <td>4.438</td>\n      <td>0.070</td>\n      <td>-0.210</td>\n      <td>1.046</td>\n      <td>0.334</td>\n      <td>-0.133</td>\n      <td>288.75488</td>\n      <td>48.226200</td>\n      <td>15.509</td>\n    </tr>\n    <tr>\n      <td>4</td>\n      <td>CONFIRMED</td>\n      <td>0</td>\n      <td>0</td>\n      <td>0</td>\n      <td>0</td>\n      <td>4.134435</td>\n      <td>1.050000e-05</td>\n      <td>-1.050000e-05</td>\n      <td>172.979370</td>\n      <td>0.001900</td>\n      <td>...</td>\n      <td>-232</td>\n      <td>4.486</td>\n      <td>0.054</td>\n      <td>-0.229</td>\n      <td>0.972</td>\n      <td>0.315</td>\n      <td>-0.105</td>\n      <td>296.28613</td>\n      <td>48.224670</td>\n      <td>15.714</td>\n    </tr>\n  </tbody>\n</table>\n<p>5 rows × 41 columns</p>\n</div>"
     },
     "metadata": {},
     "execution_count": 4
    }
   ],
   "source": [
    "df = pd.read_csv(\"exoplanet_data.csv\")\n",
    "# Drop the null columns where all values are null\n",
    "df = df.dropna(axis='columns', how='all')\n",
    "# Drop the null rows\n",
    "df = df.dropna()\n",
    "df.head()"
   ]
  },
  {
   "cell_type": "markdown",
   "metadata": {},
   "source": [
    "# Select your features (columns)"
   ]
  },
  {
   "cell_type": "code",
   "execution_count": 6,
   "metadata": {},
   "outputs": [
    {
     "output_type": "execute_result",
     "data": {
      "text/plain": "41"
     },
     "metadata": {},
     "execution_count": 6
    }
   ],
   "source": [
    "len(df.columns)"
   ]
  },
  {
   "cell_type": "code",
   "execution_count": 10,
   "metadata": {},
   "outputs": [
    {
     "output_type": "execute_result",
     "data": {
      "text/plain": "Index(['koi_period', 'koi_period_err1', 'koi_period_err2', 'koi_time0bk',\n       'koi_time0bk_err1', 'koi_time0bk_err2', 'koi_impact', 'koi_impact_err1',\n       'koi_impact_err2', 'koi_duration', 'koi_duration_err1',\n       'koi_duration_err2', 'koi_depth', 'koi_depth_err1', 'koi_depth_err2',\n       'koi_prad', 'koi_prad_err1', 'koi_prad_err2', 'koi_teq', 'koi_insol',\n       'koi_insol_err1', 'koi_insol_err2', 'koi_model_snr', 'koi_tce_plnt_num',\n       'koi_steff', 'koi_steff_err1', 'koi_steff_err2', 'koi_slogg',\n       'koi_slogg_err1', 'koi_slogg_err2', 'koi_srad', 'koi_srad_err1'],\n      dtype='object')"
     },
     "metadata": {},
     "execution_count": 10
    }
   ],
   "source": [
    "features = df.columns[5:37]\n",
    "features"
   ]
  },
  {
   "cell_type": "code",
   "execution_count": 12,
   "metadata": {},
   "outputs": [
    {
     "output_type": "execute_result",
     "data": {
      "text/plain": "      koi_period  koi_period_err1  koi_period_err2  koi_time0bk  \\\n0      54.418383     2.479000e-04    -2.479000e-04   162.513840   \n1      19.899140     1.490000e-05    -1.490000e-05   175.850252   \n2       1.736952     2.630000e-07    -2.630000e-07   170.307565   \n3       2.525592     3.760000e-06    -3.760000e-06   171.595550   \n4       4.134435     1.050000e-05    -1.050000e-05   172.979370   \n...          ...              ...              ...          ...   \n6986    8.589871     1.846000e-04    -1.846000e-04   132.016100   \n6987    0.527699     1.160000e-07    -1.160000e-07   131.705093   \n6988    1.739849     1.780000e-05    -1.780000e-05   133.001270   \n6989    0.681402     2.430000e-06    -2.430000e-06   132.181750   \n6990    4.856035     6.360000e-05    -6.360000e-05   135.993300   \n\n      koi_time0bk_err1  koi_time0bk_err2  koi_impact  koi_impact_err1  \\\n0             0.003520         -0.003520       0.586            0.059   \n1             0.000581         -0.000581       0.969            5.126   \n2             0.000115         -0.000115       1.276            0.115   \n3             0.001130         -0.001130       0.701            0.235   \n4             0.001900         -0.001900       0.762            0.139   \n...                ...               ...         ...              ...   \n6986          0.015700         -0.015700       0.765            0.023   \n6987          0.000170         -0.000170       1.252            0.051   \n6988          0.007690         -0.007690       0.043            0.423   \n6989          0.002850         -0.002850       0.147            0.309   \n6990          0.010800         -0.010800       0.134            0.323   \n\n      koi_impact_err2  koi_duration  ...  koi_model_snr  koi_tce_plnt_num  \\\n0              -0.443       4.50700  ...           25.8                 2   \n1              -0.077       1.78220  ...           76.3                 1   \n2              -0.092       2.40641  ...          505.6                 1   \n3              -0.478       1.65450  ...           40.9                 1   \n4              -0.532       3.14020  ...           40.2                 2   \n...               ...           ...  ...            ...               ...   \n6986           -0.541       4.80600  ...            8.4                 1   \n6987           -0.049       3.22210  ...          453.3                 1   \n6988           -0.043       3.11400  ...           10.6                 1   \n6989           -0.147       0.86500  ...           12.3                 1   \n6990           -0.134       3.07800  ...            8.2                 1   \n\n      koi_steff  koi_steff_err1  koi_steff_err2  koi_slogg  koi_slogg_err1  \\\n0          5455              81             -81      4.467           0.064   \n1          5853             158            -176      4.544           0.044   \n2          5805             157            -174      4.564           0.053   \n3          6031             169            -211      4.438           0.070   \n4          6046             189            -232      4.486           0.054   \n...         ...             ...             ...        ...             ...   \n6986       5638             169            -152      4.296           0.231   \n6987       5638             139            -166      4.529           0.035   \n6988       6119             165            -220      4.444           0.056   \n6989       6173             193            -236      4.447           0.056   \n6990       6469             158            -225      4.385           0.054   \n\n      koi_slogg_err2  koi_srad  koi_srad_err1  \n0             -0.096     0.927          0.105  \n1             -0.176     0.868          0.233  \n2             -0.168     0.791          0.201  \n3             -0.210     1.046          0.334  \n4             -0.229     0.972          0.315  \n...              ...       ...            ...  \n6986          -0.189     1.088          0.313  \n6987          -0.196     0.903          0.237  \n6988          -0.224     1.031          0.341  \n6989          -0.224     1.041          0.341  \n6990          -0.216     1.193          0.410  \n\n[6991 rows x 32 columns]",
      "text/html": "<div>\n<style scoped>\n    .dataframe tbody tr th:only-of-type {\n        vertical-align: middle;\n    }\n\n    .dataframe tbody tr th {\n        vertical-align: top;\n    }\n\n    .dataframe thead th {\n        text-align: right;\n    }\n</style>\n<table border=\"1\" class=\"dataframe\">\n  <thead>\n    <tr style=\"text-align: right;\">\n      <th></th>\n      <th>koi_period</th>\n      <th>koi_period_err1</th>\n      <th>koi_period_err2</th>\n      <th>koi_time0bk</th>\n      <th>koi_time0bk_err1</th>\n      <th>koi_time0bk_err2</th>\n      <th>koi_impact</th>\n      <th>koi_impact_err1</th>\n      <th>koi_impact_err2</th>\n      <th>koi_duration</th>\n      <th>...</th>\n      <th>koi_model_snr</th>\n      <th>koi_tce_plnt_num</th>\n      <th>koi_steff</th>\n      <th>koi_steff_err1</th>\n      <th>koi_steff_err2</th>\n      <th>koi_slogg</th>\n      <th>koi_slogg_err1</th>\n      <th>koi_slogg_err2</th>\n      <th>koi_srad</th>\n      <th>koi_srad_err1</th>\n    </tr>\n  </thead>\n  <tbody>\n    <tr>\n      <td>0</td>\n      <td>54.418383</td>\n      <td>2.479000e-04</td>\n      <td>-2.479000e-04</td>\n      <td>162.513840</td>\n      <td>0.003520</td>\n      <td>-0.003520</td>\n      <td>0.586</td>\n      <td>0.059</td>\n      <td>-0.443</td>\n      <td>4.50700</td>\n      <td>...</td>\n      <td>25.8</td>\n      <td>2</td>\n      <td>5455</td>\n      <td>81</td>\n      <td>-81</td>\n      <td>4.467</td>\n      <td>0.064</td>\n      <td>-0.096</td>\n      <td>0.927</td>\n      <td>0.105</td>\n    </tr>\n    <tr>\n      <td>1</td>\n      <td>19.899140</td>\n      <td>1.490000e-05</td>\n      <td>-1.490000e-05</td>\n      <td>175.850252</td>\n      <td>0.000581</td>\n      <td>-0.000581</td>\n      <td>0.969</td>\n      <td>5.126</td>\n      <td>-0.077</td>\n      <td>1.78220</td>\n      <td>...</td>\n      <td>76.3</td>\n      <td>1</td>\n      <td>5853</td>\n      <td>158</td>\n      <td>-176</td>\n      <td>4.544</td>\n      <td>0.044</td>\n      <td>-0.176</td>\n      <td>0.868</td>\n      <td>0.233</td>\n    </tr>\n    <tr>\n      <td>2</td>\n      <td>1.736952</td>\n      <td>2.630000e-07</td>\n      <td>-2.630000e-07</td>\n      <td>170.307565</td>\n      <td>0.000115</td>\n      <td>-0.000115</td>\n      <td>1.276</td>\n      <td>0.115</td>\n      <td>-0.092</td>\n      <td>2.40641</td>\n      <td>...</td>\n      <td>505.6</td>\n      <td>1</td>\n      <td>5805</td>\n      <td>157</td>\n      <td>-174</td>\n      <td>4.564</td>\n      <td>0.053</td>\n      <td>-0.168</td>\n      <td>0.791</td>\n      <td>0.201</td>\n    </tr>\n    <tr>\n      <td>3</td>\n      <td>2.525592</td>\n      <td>3.760000e-06</td>\n      <td>-3.760000e-06</td>\n      <td>171.595550</td>\n      <td>0.001130</td>\n      <td>-0.001130</td>\n      <td>0.701</td>\n      <td>0.235</td>\n      <td>-0.478</td>\n      <td>1.65450</td>\n      <td>...</td>\n      <td>40.9</td>\n      <td>1</td>\n      <td>6031</td>\n      <td>169</td>\n      <td>-211</td>\n      <td>4.438</td>\n      <td>0.070</td>\n      <td>-0.210</td>\n      <td>1.046</td>\n      <td>0.334</td>\n    </tr>\n    <tr>\n      <td>4</td>\n      <td>4.134435</td>\n      <td>1.050000e-05</td>\n      <td>-1.050000e-05</td>\n      <td>172.979370</td>\n      <td>0.001900</td>\n      <td>-0.001900</td>\n      <td>0.762</td>\n      <td>0.139</td>\n      <td>-0.532</td>\n      <td>3.14020</td>\n      <td>...</td>\n      <td>40.2</td>\n      <td>2</td>\n      <td>6046</td>\n      <td>189</td>\n      <td>-232</td>\n      <td>4.486</td>\n      <td>0.054</td>\n      <td>-0.229</td>\n      <td>0.972</td>\n      <td>0.315</td>\n    </tr>\n    <tr>\n      <td>...</td>\n      <td>...</td>\n      <td>...</td>\n      <td>...</td>\n      <td>...</td>\n      <td>...</td>\n      <td>...</td>\n      <td>...</td>\n      <td>...</td>\n      <td>...</td>\n      <td>...</td>\n      <td>...</td>\n      <td>...</td>\n      <td>...</td>\n      <td>...</td>\n      <td>...</td>\n      <td>...</td>\n      <td>...</td>\n      <td>...</td>\n      <td>...</td>\n      <td>...</td>\n      <td>...</td>\n    </tr>\n    <tr>\n      <td>6986</td>\n      <td>8.589871</td>\n      <td>1.846000e-04</td>\n      <td>-1.846000e-04</td>\n      <td>132.016100</td>\n      <td>0.015700</td>\n      <td>-0.015700</td>\n      <td>0.765</td>\n      <td>0.023</td>\n      <td>-0.541</td>\n      <td>4.80600</td>\n      <td>...</td>\n      <td>8.4</td>\n      <td>1</td>\n      <td>5638</td>\n      <td>169</td>\n      <td>-152</td>\n      <td>4.296</td>\n      <td>0.231</td>\n      <td>-0.189</td>\n      <td>1.088</td>\n      <td>0.313</td>\n    </tr>\n    <tr>\n      <td>6987</td>\n      <td>0.527699</td>\n      <td>1.160000e-07</td>\n      <td>-1.160000e-07</td>\n      <td>131.705093</td>\n      <td>0.000170</td>\n      <td>-0.000170</td>\n      <td>1.252</td>\n      <td>0.051</td>\n      <td>-0.049</td>\n      <td>3.22210</td>\n      <td>...</td>\n      <td>453.3</td>\n      <td>1</td>\n      <td>5638</td>\n      <td>139</td>\n      <td>-166</td>\n      <td>4.529</td>\n      <td>0.035</td>\n      <td>-0.196</td>\n      <td>0.903</td>\n      <td>0.237</td>\n    </tr>\n    <tr>\n      <td>6988</td>\n      <td>1.739849</td>\n      <td>1.780000e-05</td>\n      <td>-1.780000e-05</td>\n      <td>133.001270</td>\n      <td>0.007690</td>\n      <td>-0.007690</td>\n      <td>0.043</td>\n      <td>0.423</td>\n      <td>-0.043</td>\n      <td>3.11400</td>\n      <td>...</td>\n      <td>10.6</td>\n      <td>1</td>\n      <td>6119</td>\n      <td>165</td>\n      <td>-220</td>\n      <td>4.444</td>\n      <td>0.056</td>\n      <td>-0.224</td>\n      <td>1.031</td>\n      <td>0.341</td>\n    </tr>\n    <tr>\n      <td>6989</td>\n      <td>0.681402</td>\n      <td>2.430000e-06</td>\n      <td>-2.430000e-06</td>\n      <td>132.181750</td>\n      <td>0.002850</td>\n      <td>-0.002850</td>\n      <td>0.147</td>\n      <td>0.309</td>\n      <td>-0.147</td>\n      <td>0.86500</td>\n      <td>...</td>\n      <td>12.3</td>\n      <td>1</td>\n      <td>6173</td>\n      <td>193</td>\n      <td>-236</td>\n      <td>4.447</td>\n      <td>0.056</td>\n      <td>-0.224</td>\n      <td>1.041</td>\n      <td>0.341</td>\n    </tr>\n    <tr>\n      <td>6990</td>\n      <td>4.856035</td>\n      <td>6.360000e-05</td>\n      <td>-6.360000e-05</td>\n      <td>135.993300</td>\n      <td>0.010800</td>\n      <td>-0.010800</td>\n      <td>0.134</td>\n      <td>0.323</td>\n      <td>-0.134</td>\n      <td>3.07800</td>\n      <td>...</td>\n      <td>8.2</td>\n      <td>1</td>\n      <td>6469</td>\n      <td>158</td>\n      <td>-225</td>\n      <td>4.385</td>\n      <td>0.054</td>\n      <td>-0.216</td>\n      <td>1.193</td>\n      <td>0.410</td>\n    </tr>\n  </tbody>\n</table>\n<p>6991 rows × 32 columns</p>\n</div>"
     },
     "metadata": {},
     "execution_count": 12
    }
   ],
   "source": [
    "# Set features. This will also be used as your x values.\n",
    "selected_features = df[features]\n",
    "selected_features"
   ]
  },
  {
   "cell_type": "markdown",
   "metadata": {},
   "source": [
    "# Create a Train Test Split\n",
    "\n",
    "Use `koi_disposition` for the y values"
   ]
  },
  {
   "cell_type": "code",
   "execution_count": 25,
   "metadata": {},
   "outputs": [
    {
     "output_type": "execute_result",
     "data": {
      "text/plain": "      0\n0     1\n1     2\n2     2\n3     1\n4     1\n...  ..\n6986  2\n6987  2\n6988  0\n6989  2\n6990  2\n\n[6991 rows x 1 columns]",
      "text/html": "<div>\n<style scoped>\n    .dataframe tbody tr th:only-of-type {\n        vertical-align: middle;\n    }\n\n    .dataframe tbody tr th {\n        vertical-align: top;\n    }\n\n    .dataframe thead th {\n        text-align: right;\n    }\n</style>\n<table border=\"1\" class=\"dataframe\">\n  <thead>\n    <tr style=\"text-align: right;\">\n      <th></th>\n      <th>0</th>\n    </tr>\n  </thead>\n  <tbody>\n    <tr>\n      <td>0</td>\n      <td>1</td>\n    </tr>\n    <tr>\n      <td>1</td>\n      <td>2</td>\n    </tr>\n    <tr>\n      <td>2</td>\n      <td>2</td>\n    </tr>\n    <tr>\n      <td>3</td>\n      <td>1</td>\n    </tr>\n    <tr>\n      <td>4</td>\n      <td>1</td>\n    </tr>\n    <tr>\n      <td>...</td>\n      <td>...</td>\n    </tr>\n    <tr>\n      <td>6986</td>\n      <td>2</td>\n    </tr>\n    <tr>\n      <td>6987</td>\n      <td>2</td>\n    </tr>\n    <tr>\n      <td>6988</td>\n      <td>0</td>\n    </tr>\n    <tr>\n      <td>6989</td>\n      <td>2</td>\n    </tr>\n    <tr>\n      <td>6990</td>\n      <td>2</td>\n    </tr>\n  </tbody>\n</table>\n<p>6991 rows × 1 columns</p>\n</div>"
     },
     "metadata": {},
     "execution_count": 25
    }
   ],
   "source": [
    "y = df['koi_disposition']\n",
    "from sklearn import preprocessing\n",
    "le = preprocessing.LabelEncoder()\n",
    "le.fit(y.value_counts().keys())\n",
    "y = pd.DataFrame(le.transform(y))\n",
    "y"
   ]
  },
  {
   "cell_type": "code",
   "execution_count": 34,
   "metadata": {},
   "outputs": [],
   "source": [
    "from sklearn.model_selection import train_test_split\n",
    "X_train, X_test, y_train, y_test = train_test_split(selected_features, y, random_state=42)"
   ]
  },
  {
   "cell_type": "code",
   "execution_count": 35,
   "metadata": {},
   "outputs": [
    {
     "output_type": "execute_result",
     "data": {
      "text/plain": "      0\n4982  2\n4866  0\n2934  2\n5007  2\n3869  2\n...  ..\n4006  0\n6985  0\n1468  1\n5138  1\n2770  1\n\n[1748 rows x 1 columns]",
      "text/html": "<div>\n<style scoped>\n    .dataframe tbody tr th:only-of-type {\n        vertical-align: middle;\n    }\n\n    .dataframe tbody tr th {\n        vertical-align: top;\n    }\n\n    .dataframe thead th {\n        text-align: right;\n    }\n</style>\n<table border=\"1\" class=\"dataframe\">\n  <thead>\n    <tr style=\"text-align: right;\">\n      <th></th>\n      <th>0</th>\n    </tr>\n  </thead>\n  <tbody>\n    <tr>\n      <td>4982</td>\n      <td>2</td>\n    </tr>\n    <tr>\n      <td>4866</td>\n      <td>0</td>\n    </tr>\n    <tr>\n      <td>2934</td>\n      <td>2</td>\n    </tr>\n    <tr>\n      <td>5007</td>\n      <td>2</td>\n    </tr>\n    <tr>\n      <td>3869</td>\n      <td>2</td>\n    </tr>\n    <tr>\n      <td>...</td>\n      <td>...</td>\n    </tr>\n    <tr>\n      <td>4006</td>\n      <td>0</td>\n    </tr>\n    <tr>\n      <td>6985</td>\n      <td>0</td>\n    </tr>\n    <tr>\n      <td>1468</td>\n      <td>1</td>\n    </tr>\n    <tr>\n      <td>5138</td>\n      <td>1</td>\n    </tr>\n    <tr>\n      <td>2770</td>\n      <td>1</td>\n    </tr>\n  </tbody>\n</table>\n<p>1748 rows × 1 columns</p>\n</div>"
     },
     "metadata": {},
     "execution_count": 35
    }
   ],
   "source": [
    "y_test"
   ]
  },
  {
   "cell_type": "code",
   "execution_count": 29,
   "metadata": {},
   "outputs": [
    {
     "output_type": "execute_result",
     "data": {
      "text/plain": "      koi_period  koi_period_err1  koi_period_err2  koi_time0bk  \\\n4982   88.523517     2.337000e-03    -2.337000e-03   189.275600   \n4866  102.493119     1.322000e-03    -1.322000e-03   166.009400   \n2934    1.181165     3.890000e-06    -3.890000e-06   132.425220   \n5007    8.412009     2.360000e-07    -2.360000e-07   139.648520   \n3869    1.195515     5.730000e-07    -5.730000e-07   132.303851   \n...          ...              ...              ...          ...   \n4006  152.825599     7.133000e-04    -7.133000e-04   197.413390   \n6985   47.109631     1.940000e-04    -1.940000e-04   144.131720   \n1468   40.836631     3.848000e-04    -3.848000e-04   152.873460   \n5138    7.584424     2.854000e-04    -2.854000e-04   137.847000   \n2770    0.971916     3.270000e-06    -3.270000e-06   132.165040   \n\n      koi_time0bk_err1  koi_time0bk_err2  koi_impact  koi_impact_err1  \\\n4982          0.023200         -0.023200      0.9117           0.0087   \n4866          0.010500         -0.010500      0.9591           0.0000   \n2934          0.002760         -0.002760      0.6320           0.0450   \n5007          0.000024         -0.000024      0.5390           0.0040   \n3869          0.000410         -0.000410      1.2810           0.0830   \n...                ...               ...         ...              ...   \n4006          0.004100         -0.004100      0.4090           0.0410   \n6985          0.003430         -0.003430      1.2300           6.9230   \n1468          0.007340         -0.007340      0.3630           0.1010   \n5138          0.049700         -0.049700      0.8150           0.0320   \n2770          0.002660         -0.002660      0.5920           0.3720   \n\n      koi_impact_err2  koi_duration  ...  koi_model_snr  koi_tce_plnt_num  \\\n4982          -0.6588       7.22000  ...            7.7                 1   \n4866          -0.6667       2.81400  ...            8.3                 1   \n2934          -0.4740       1.01300  ...           14.1                 1   \n5007          -0.0010       5.41096  ...         5696.2                 1   \n3869          -0.0730       5.08340  ...          309.1                 1   \n...               ...           ...  ...            ...               ...   \n4006          -0.3650      22.68800  ...           98.9                 1   \n6985          -0.6050       5.74100  ...           35.1                 1   \n1468          -0.3630       4.95600  ...           18.7                 1   \n5138          -0.5690       3.91800  ...           23.8                 2   \n2770          -0.3710       1.60230  ...           16.7                 1   \n\n      koi_steff  koi_steff_err1  koi_steff_err2  koi_slogg  koi_slogg_err1  \\\n4982       3827              56             -75      4.782           0.060   \n4866       5166             171            -140      4.583           0.024   \n2934       5203             169            -154      4.582           0.048   \n5007       6247             169            -206      4.225           0.185   \n3869       6040             182            -182      4.271           0.220   \n...         ...             ...             ...        ...             ...   \n4006       4991              86            -135      2.933           0.030   \n6985       5258             159            -159      3.597           0.968   \n1468       5529             110            -110      4.457           0.076   \n5138       6264             177            -265      4.133           0.200   \n2770       5196              83             -72      4.458           0.091   \n\n      koi_slogg_err2  koi_srad  koi_srad_err1  \n4982          -0.070     0.462          0.050  \n4866          -0.117     0.791          0.132  \n2934          -0.078     0.747          0.098  \n5007          -0.185     1.314          0.373  \n3869          -0.180     1.155          0.331  \n...              ...       ...            ...  \n4006          -0.030     7.506          0.415  \n6985          -0.242     2.780          1.089  \n1468          -0.093     0.925          0.110  \n5138          -0.180     1.651          0.502  \n2770          -0.039     0.889          0.051  \n\n[1748 rows x 32 columns]",
      "text/html": "<div>\n<style scoped>\n    .dataframe tbody tr th:only-of-type {\n        vertical-align: middle;\n    }\n\n    .dataframe tbody tr th {\n        vertical-align: top;\n    }\n\n    .dataframe thead th {\n        text-align: right;\n    }\n</style>\n<table border=\"1\" class=\"dataframe\">\n  <thead>\n    <tr style=\"text-align: right;\">\n      <th></th>\n      <th>koi_period</th>\n      <th>koi_period_err1</th>\n      <th>koi_period_err2</th>\n      <th>koi_time0bk</th>\n      <th>koi_time0bk_err1</th>\n      <th>koi_time0bk_err2</th>\n      <th>koi_impact</th>\n      <th>koi_impact_err1</th>\n      <th>koi_impact_err2</th>\n      <th>koi_duration</th>\n      <th>...</th>\n      <th>koi_model_snr</th>\n      <th>koi_tce_plnt_num</th>\n      <th>koi_steff</th>\n      <th>koi_steff_err1</th>\n      <th>koi_steff_err2</th>\n      <th>koi_slogg</th>\n      <th>koi_slogg_err1</th>\n      <th>koi_slogg_err2</th>\n      <th>koi_srad</th>\n      <th>koi_srad_err1</th>\n    </tr>\n  </thead>\n  <tbody>\n    <tr>\n      <td>4982</td>\n      <td>88.523517</td>\n      <td>2.337000e-03</td>\n      <td>-2.337000e-03</td>\n      <td>189.275600</td>\n      <td>0.023200</td>\n      <td>-0.023200</td>\n      <td>0.9117</td>\n      <td>0.0087</td>\n      <td>-0.6588</td>\n      <td>7.22000</td>\n      <td>...</td>\n      <td>7.7</td>\n      <td>1</td>\n      <td>3827</td>\n      <td>56</td>\n      <td>-75</td>\n      <td>4.782</td>\n      <td>0.060</td>\n      <td>-0.070</td>\n      <td>0.462</td>\n      <td>0.050</td>\n    </tr>\n    <tr>\n      <td>4866</td>\n      <td>102.493119</td>\n      <td>1.322000e-03</td>\n      <td>-1.322000e-03</td>\n      <td>166.009400</td>\n      <td>0.010500</td>\n      <td>-0.010500</td>\n      <td>0.9591</td>\n      <td>0.0000</td>\n      <td>-0.6667</td>\n      <td>2.81400</td>\n      <td>...</td>\n      <td>8.3</td>\n      <td>1</td>\n      <td>5166</td>\n      <td>171</td>\n      <td>-140</td>\n      <td>4.583</td>\n      <td>0.024</td>\n      <td>-0.117</td>\n      <td>0.791</td>\n      <td>0.132</td>\n    </tr>\n    <tr>\n      <td>2934</td>\n      <td>1.181165</td>\n      <td>3.890000e-06</td>\n      <td>-3.890000e-06</td>\n      <td>132.425220</td>\n      <td>0.002760</td>\n      <td>-0.002760</td>\n      <td>0.6320</td>\n      <td>0.0450</td>\n      <td>-0.4740</td>\n      <td>1.01300</td>\n      <td>...</td>\n      <td>14.1</td>\n      <td>1</td>\n      <td>5203</td>\n      <td>169</td>\n      <td>-154</td>\n      <td>4.582</td>\n      <td>0.048</td>\n      <td>-0.078</td>\n      <td>0.747</td>\n      <td>0.098</td>\n    </tr>\n    <tr>\n      <td>5007</td>\n      <td>8.412009</td>\n      <td>2.360000e-07</td>\n      <td>-2.360000e-07</td>\n      <td>139.648520</td>\n      <td>0.000024</td>\n      <td>-0.000024</td>\n      <td>0.5390</td>\n      <td>0.0040</td>\n      <td>-0.0010</td>\n      <td>5.41096</td>\n      <td>...</td>\n      <td>5696.2</td>\n      <td>1</td>\n      <td>6247</td>\n      <td>169</td>\n      <td>-206</td>\n      <td>4.225</td>\n      <td>0.185</td>\n      <td>-0.185</td>\n      <td>1.314</td>\n      <td>0.373</td>\n    </tr>\n    <tr>\n      <td>3869</td>\n      <td>1.195515</td>\n      <td>5.730000e-07</td>\n      <td>-5.730000e-07</td>\n      <td>132.303851</td>\n      <td>0.000410</td>\n      <td>-0.000410</td>\n      <td>1.2810</td>\n      <td>0.0830</td>\n      <td>-0.0730</td>\n      <td>5.08340</td>\n      <td>...</td>\n      <td>309.1</td>\n      <td>1</td>\n      <td>6040</td>\n      <td>182</td>\n      <td>-182</td>\n      <td>4.271</td>\n      <td>0.220</td>\n      <td>-0.180</td>\n      <td>1.155</td>\n      <td>0.331</td>\n    </tr>\n    <tr>\n      <td>...</td>\n      <td>...</td>\n      <td>...</td>\n      <td>...</td>\n      <td>...</td>\n      <td>...</td>\n      <td>...</td>\n      <td>...</td>\n      <td>...</td>\n      <td>...</td>\n      <td>...</td>\n      <td>...</td>\n      <td>...</td>\n      <td>...</td>\n      <td>...</td>\n      <td>...</td>\n      <td>...</td>\n      <td>...</td>\n      <td>...</td>\n      <td>...</td>\n      <td>...</td>\n      <td>...</td>\n    </tr>\n    <tr>\n      <td>4006</td>\n      <td>152.825599</td>\n      <td>7.133000e-04</td>\n      <td>-7.133000e-04</td>\n      <td>197.413390</td>\n      <td>0.004100</td>\n      <td>-0.004100</td>\n      <td>0.4090</td>\n      <td>0.0410</td>\n      <td>-0.3650</td>\n      <td>22.68800</td>\n      <td>...</td>\n      <td>98.9</td>\n      <td>1</td>\n      <td>4991</td>\n      <td>86</td>\n      <td>-135</td>\n      <td>2.933</td>\n      <td>0.030</td>\n      <td>-0.030</td>\n      <td>7.506</td>\n      <td>0.415</td>\n    </tr>\n    <tr>\n      <td>6985</td>\n      <td>47.109631</td>\n      <td>1.940000e-04</td>\n      <td>-1.940000e-04</td>\n      <td>144.131720</td>\n      <td>0.003430</td>\n      <td>-0.003430</td>\n      <td>1.2300</td>\n      <td>6.9230</td>\n      <td>-0.6050</td>\n      <td>5.74100</td>\n      <td>...</td>\n      <td>35.1</td>\n      <td>1</td>\n      <td>5258</td>\n      <td>159</td>\n      <td>-159</td>\n      <td>3.597</td>\n      <td>0.968</td>\n      <td>-0.242</td>\n      <td>2.780</td>\n      <td>1.089</td>\n    </tr>\n    <tr>\n      <td>1468</td>\n      <td>40.836631</td>\n      <td>3.848000e-04</td>\n      <td>-3.848000e-04</td>\n      <td>152.873460</td>\n      <td>0.007340</td>\n      <td>-0.007340</td>\n      <td>0.3630</td>\n      <td>0.1010</td>\n      <td>-0.3630</td>\n      <td>4.95600</td>\n      <td>...</td>\n      <td>18.7</td>\n      <td>1</td>\n      <td>5529</td>\n      <td>110</td>\n      <td>-110</td>\n      <td>4.457</td>\n      <td>0.076</td>\n      <td>-0.093</td>\n      <td>0.925</td>\n      <td>0.110</td>\n    </tr>\n    <tr>\n      <td>5138</td>\n      <td>7.584424</td>\n      <td>2.854000e-04</td>\n      <td>-2.854000e-04</td>\n      <td>137.847000</td>\n      <td>0.049700</td>\n      <td>-0.049700</td>\n      <td>0.8150</td>\n      <td>0.0320</td>\n      <td>-0.5690</td>\n      <td>3.91800</td>\n      <td>...</td>\n      <td>23.8</td>\n      <td>2</td>\n      <td>6264</td>\n      <td>177</td>\n      <td>-265</td>\n      <td>4.133</td>\n      <td>0.200</td>\n      <td>-0.180</td>\n      <td>1.651</td>\n      <td>0.502</td>\n    </tr>\n    <tr>\n      <td>2770</td>\n      <td>0.971916</td>\n      <td>3.270000e-06</td>\n      <td>-3.270000e-06</td>\n      <td>132.165040</td>\n      <td>0.002660</td>\n      <td>-0.002660</td>\n      <td>0.5920</td>\n      <td>0.3720</td>\n      <td>-0.3710</td>\n      <td>1.60230</td>\n      <td>...</td>\n      <td>16.7</td>\n      <td>1</td>\n      <td>5196</td>\n      <td>83</td>\n      <td>-72</td>\n      <td>4.458</td>\n      <td>0.091</td>\n      <td>-0.039</td>\n      <td>0.889</td>\n      <td>0.051</td>\n    </tr>\n  </tbody>\n</table>\n<p>1748 rows × 32 columns</p>\n</div>"
     },
     "metadata": {},
     "execution_count": 29
    }
   ],
   "source": [
    "X_test"
   ]
  },
  {
   "cell_type": "markdown",
   "metadata": {},
   "source": [
    "# Pre-processing\n",
    "\n",
    "Scale the data using the MinMaxScaler and perform some feature selection"
   ]
  },
  {
   "cell_type": "code",
   "execution_count": 36,
   "metadata": {},
   "outputs": [],
   "source": [
    "# Scale your data\n",
    "X_scaler = preprocessing.MinMaxScaler().fit(X_train)\n",
    "X_train_scaled = X_scaler.transform(X_train)\n",
    "X_test_scaled = X_scaler.transform(X_test)"
   ]
  },
  {
   "cell_type": "markdown",
   "metadata": {},
   "source": [
    "# Train the Model\n",
    "\n"
   ]
  },
  {
   "cell_type": "code",
   "execution_count": 47,
   "metadata": {},
   "outputs": [],
   "source": [
    "from sklearn import tree\n",
    "model2 = tree.DecisionTreeClassifier()\n",
    "model2= model2.fit(X_train_scaled, y_train)"
   ]
  },
  {
   "cell_type": "code",
   "execution_count": 48,
   "metadata": {
    "tags": []
   },
   "outputs": [
    {
     "output_type": "stream",
     "name": "stdout",
     "text": "Training Data Score: 1.0\nTesting Data Score: 0.6807780320366132\n"
    }
   ],
   "source": [
    "print(f\"Training Data Score: {model2.score(X_train_scaled, y_train)}\")\n",
    "print(f\"Testing Data Score: {model2.score(X_test_scaled, y_test)}\")"
   ]
  },
  {
   "cell_type": "code",
   "execution_count": 49,
   "metadata": {},
   "outputs": [
    {
     "output_type": "execute_result",
     "data": {
      "text/plain": "0.7717391304347826"
     },
     "metadata": {},
     "execution_count": 49
    }
   ],
   "source": [
    "from sklearn.ensemble import RandomForestClassifier\n",
    "rf = RandomForestClassifier(n_estimators=200)\n",
    "rf = rf.fit(X_train_scaled, y_train)\n",
    "rf.score(X_test_scaled, y_test)"
   ]
  },
  {
   "cell_type": "markdown",
   "metadata": {},
   "source": [
    "# Hyperparameter Tuning\n",
    "\n",
    "Use `GridSearchCV` to tune the model's parameters"
   ]
  },
  {
   "cell_type": "code",
   "execution_count": 50,
   "metadata": {},
   "outputs": [],
   "source": [
    "# Create the GridSearchCV model\n",
    "from sklearn.model_selection import GridSearchCV\n",
    "param_grid = {\n",
    "    'max_depth': [80, 90, 100, 150],\n",
    "    'min_samples_split': [6, 12, 15],\n",
    "    'n_estimators': [100, 200, 300, 800]\n",
    "}\n",
    "grid = GridSearchCV(rf, param_grid, verbose=3)"
   ]
  },
  {
   "cell_type": "code",
   "execution_count": 51,
   "metadata": {
    "tags": [
     "outputPrepend"
    ]
   },
   "outputs": [
    {
     "output_type": "stream",
     "name": "stdout",
     "text": "............\n[CV]  max_depth=90, min_samples_split=15, n_estimators=300, score=0.761, total=   3.1s\n[CV] max_depth=90, min_samples_split=15, n_estimators=800 ............\n[CV]  max_depth=90, min_samples_split=15, n_estimators=800, score=0.771, total=   8.4s\n[CV] max_depth=90, min_samples_split=15, n_estimators=800 ............\n[CV]  max_depth=90, min_samples_split=15, n_estimators=800, score=0.778, total=   8.3s\n[CV] max_depth=90, min_samples_split=15, n_estimators=800 ............\n[CV]  max_depth=90, min_samples_split=15, n_estimators=800, score=0.774, total=   8.2s\n[CV] max_depth=90, min_samples_split=15, n_estimators=800 ............\n[CV]  max_depth=90, min_samples_split=15, n_estimators=800, score=0.767, total=   8.3s\n[CV] max_depth=90, min_samples_split=15, n_estimators=800 ............\n[CV]  max_depth=90, min_samples_split=15, n_estimators=800, score=0.764, total=   8.2s\n[CV] max_depth=100, min_samples_split=6, n_estimators=100 ............\n[CV]  max_depth=100, min_samples_split=6, n_estimators=100, score=0.783, total=   1.1s\n[CV] max_depth=100, min_samples_split=6, n_estimators=100 ............\n[CV]  max_depth=100, min_samples_split=6, n_estimators=100, score=0.780, total=   1.1s\n[CV] max_depth=100, min_samples_split=6, n_estimators=100 ............\n[CV]  max_depth=100, min_samples_split=6, n_estimators=100, score=0.765, total=   1.1s\n[CV] max_depth=100, min_samples_split=6, n_estimators=100 ............\n[CV]  max_depth=100, min_samples_split=6, n_estimators=100, score=0.772, total=   1.1s\n[CV] max_depth=100, min_samples_split=6, n_estimators=100 ............\n[CV]  max_depth=100, min_samples_split=6, n_estimators=100, score=0.764, total=   1.1s\n[CV] max_depth=100, min_samples_split=6, n_estimators=200 ............\n[CV]  max_depth=100, min_samples_split=6, n_estimators=200, score=0.781, total=   2.2s\n[CV] max_depth=100, min_samples_split=6, n_estimators=200 ............\n[CV]  max_depth=100, min_samples_split=6, n_estimators=200, score=0.769, total=   2.1s\n[CV] max_depth=100, min_samples_split=6, n_estimators=200 ............\n[CV]  max_depth=100, min_samples_split=6, n_estimators=200, score=0.763, total=   2.1s\n[CV] max_depth=100, min_samples_split=6, n_estimators=200 ............\n[CV]  max_depth=100, min_samples_split=6, n_estimators=200, score=0.767, total=   2.2s\n[CV] max_depth=100, min_samples_split=6, n_estimators=200 ............\n[CV]  max_depth=100, min_samples_split=6, n_estimators=200, score=0.767, total=   2.2s\n[CV] max_depth=100, min_samples_split=6, n_estimators=300 ............\n[CV]  max_depth=100, min_samples_split=6, n_estimators=300, score=0.778, total=   3.3s\n[CV] max_depth=100, min_samples_split=6, n_estimators=300 ............\n[CV]  max_depth=100, min_samples_split=6, n_estimators=300, score=0.778, total=   3.2s\n[CV] max_depth=100, min_samples_split=6, n_estimators=300 ............\n[CV]  max_depth=100, min_samples_split=6, n_estimators=300, score=0.774, total=   3.2s\n[CV] max_depth=100, min_samples_split=6, n_estimators=300 ............\n[CV]  max_depth=100, min_samples_split=6, n_estimators=300, score=0.765, total=   3.1s\n[CV] max_depth=100, min_samples_split=6, n_estimators=300 ............\n[CV]  max_depth=100, min_samples_split=6, n_estimators=300, score=0.763, total=   3.2s\n[CV] max_depth=100, min_samples_split=6, n_estimators=800 ............\n[CV]  max_depth=100, min_samples_split=6, n_estimators=800, score=0.780, total=   8.7s\n[CV] max_depth=100, min_samples_split=6, n_estimators=800 ............\n[CV]  max_depth=100, min_samples_split=6, n_estimators=800, score=0.784, total=   8.6s\n[CV] max_depth=100, min_samples_split=6, n_estimators=800 ............\n[CV]  max_depth=100, min_samples_split=6, n_estimators=800, score=0.767, total=   8.5s\n[CV] max_depth=100, min_samples_split=6, n_estimators=800 ............\n[CV]  max_depth=100, min_samples_split=6, n_estimators=800, score=0.763, total=   8.4s\n[CV] max_depth=100, min_samples_split=6, n_estimators=800 ............\n[CV]  max_depth=100, min_samples_split=6, n_estimators=800, score=0.763, total=   8.5s\n[CV] max_depth=100, min_samples_split=12, n_estimators=100 ...........\n[CV]  max_depth=100, min_samples_split=12, n_estimators=100, score=0.772, total=   1.1s\n[CV] max_depth=100, min_samples_split=12, n_estimators=100 ...........\n[CV]  max_depth=100, min_samples_split=12, n_estimators=100, score=0.786, total=   1.0s\n[CV] max_depth=100, min_samples_split=12, n_estimators=100 ...........\n[CV]  max_depth=100, min_samples_split=12, n_estimators=100, score=0.768, total=   1.1s\n[CV] max_depth=100, min_samples_split=12, n_estimators=100 ...........\n[CV]  max_depth=100, min_samples_split=12, n_estimators=100, score=0.762, total=   1.0s\n[CV] max_depth=100, min_samples_split=12, n_estimators=100 ...........\n[CV]  max_depth=100, min_samples_split=12, n_estimators=100, score=0.761, total=   1.0s\n[CV] max_depth=100, min_samples_split=12, n_estimators=200 ...........\n[CV]  max_depth=100, min_samples_split=12, n_estimators=200, score=0.772, total=   2.1s\n[CV] max_depth=100, min_samples_split=12, n_estimators=200 ...........\n[CV]  max_depth=100, min_samples_split=12, n_estimators=200, score=0.779, total=   2.1s\n[CV] max_depth=100, min_samples_split=12, n_estimators=200 ...........\n[CV]  max_depth=100, min_samples_split=12, n_estimators=200, score=0.773, total=   2.1s\n[CV] max_depth=100, min_samples_split=12, n_estimators=200 ...........\n[CV]  max_depth=100, min_samples_split=12, n_estimators=200, score=0.766, total=   2.1s\n[CV] max_depth=100, min_samples_split=12, n_estimators=200 ...........\n[CV]  max_depth=100, min_samples_split=12, n_estimators=200, score=0.759, total=   2.1s\n[CV] max_depth=100, min_samples_split=12, n_estimators=300 ...........\n[CV]  max_depth=100, min_samples_split=12, n_estimators=300, score=0.772, total=   3.2s\n[CV] max_depth=100, min_samples_split=12, n_estimators=300 ...........\n[CV]  max_depth=100, min_samples_split=12, n_estimators=300, score=0.788, total=   3.1s\n[CV] max_depth=100, min_samples_split=12, n_estimators=300 ...........\n[CV]  max_depth=100, min_samples_split=12, n_estimators=300, score=0.774, total=   3.1s\n[CV] max_depth=100, min_samples_split=12, n_estimators=300 ...........\n[CV]  max_depth=100, min_samples_split=12, n_estimators=300, score=0.768, total=   3.1s\n[CV] max_depth=100, min_samples_split=12, n_estimators=300 ...........\n[CV]  max_depth=100, min_samples_split=12, n_estimators=300, score=0.763, total=   3.1s\n[CV] max_depth=100, min_samples_split=12, n_estimators=800 ...........\n[CV]  max_depth=100, min_samples_split=12, n_estimators=800, score=0.773, total=   8.5s\n[CV] max_depth=100, min_samples_split=12, n_estimators=800 ...........\n[CV]  max_depth=100, min_samples_split=12, n_estimators=800, score=0.779, total=   8.7s\n[CV] max_depth=100, min_samples_split=12, n_estimators=800 ...........\n[CV]  max_depth=100, min_samples_split=12, n_estimators=800, score=0.767, total=   8.7s\n[CV] max_depth=100, min_samples_split=12, n_estimators=800 ...........\n[CV]  max_depth=100, min_samples_split=12, n_estimators=800, score=0.767, total=   8.3s\n[CV] max_depth=100, min_samples_split=12, n_estimators=800 ...........\n[CV]  max_depth=100, min_samples_split=12, n_estimators=800, score=0.762, total=   8.4s\n[CV] max_depth=100, min_samples_split=15, n_estimators=100 ...........\n[CV]  max_depth=100, min_samples_split=15, n_estimators=100, score=0.772, total=   1.0s\n[CV] max_depth=100, min_samples_split=15, n_estimators=100 ...........\n[CV]  max_depth=100, min_samples_split=15, n_estimators=100, score=0.780, total=   1.0s\n[CV] max_depth=100, min_samples_split=15, n_estimators=100 ...........\n[CV]  max_depth=100, min_samples_split=15, n_estimators=100, score=0.777, total=   1.0s\n[CV] max_depth=100, min_samples_split=15, n_estimators=100 ...........\n[CV]  max_depth=100, min_samples_split=15, n_estimators=100, score=0.768, total=   1.0s\n[CV] max_depth=100, min_samples_split=15, n_estimators=100 ...........\n[CV]  max_depth=100, min_samples_split=15, n_estimators=100, score=0.760, total=   1.0s\n[CV] max_depth=100, min_samples_split=15, n_estimators=200 ...........\n[CV]  max_depth=100, min_samples_split=15, n_estimators=200, score=0.771, total=   2.1s\n[CV] max_depth=100, min_samples_split=15, n_estimators=200 ...........\n[CV]  max_depth=100, min_samples_split=15, n_estimators=200, score=0.778, total=   2.1s\n[CV] max_depth=100, min_samples_split=15, n_estimators=200 ...........\n[CV]  max_depth=100, min_samples_split=15, n_estimators=200, score=0.773, total=   2.1s\n[CV] max_depth=100, min_samples_split=15, n_estimators=200 ...........\n[CV]  max_depth=100, min_samples_split=15, n_estimators=200, score=0.765, total=   2.1s\n[CV] max_depth=100, min_samples_split=15, n_estimators=200 ...........\n[CV]  max_depth=100, min_samples_split=15, n_estimators=200, score=0.765, total=   2.1s\n[CV] max_depth=100, min_samples_split=15, n_estimators=300 ...........\n[CV]  max_depth=100, min_samples_split=15, n_estimators=300, score=0.770, total=   3.1s\n[CV] max_depth=100, min_samples_split=15, n_estimators=300 ...........\n[CV]  max_depth=100, min_samples_split=15, n_estimators=300, score=0.786, total=   3.1s\n[CV] max_depth=100, min_samples_split=15, n_estimators=300 ...........\n[CV]  max_depth=100, min_samples_split=15, n_estimators=300, score=0.770, total=   3.1s\n[CV] max_depth=100, min_samples_split=15, n_estimators=300 ...........\n[CV]  max_depth=100, min_samples_split=15, n_estimators=300, score=0.764, total=   3.1s\n[CV] max_depth=100, min_samples_split=15, n_estimators=300 ...........\n[CV]  max_depth=100, min_samples_split=15, n_estimators=300, score=0.764, total=   3.1s\n[CV] max_depth=100, min_samples_split=15, n_estimators=800 ...........\n[CV]  max_depth=100, min_samples_split=15, n_estimators=800, score=0.773, total=   8.4s\n[CV] max_depth=100, min_samples_split=15, n_estimators=800 ...........\n[CV]  max_depth=100, min_samples_split=15, n_estimators=800, score=0.775, total=   8.3s\n[CV] max_depth=100, min_samples_split=15, n_estimators=800 ...........\n[CV]  max_depth=100, min_samples_split=15, n_estimators=800, score=0.777, total=   8.2s\n[CV] max_depth=100, min_samples_split=15, n_estimators=800 ...........\n[CV]  max_depth=100, min_samples_split=15, n_estimators=800, score=0.770, total=   8.4s\n[CV] max_depth=100, min_samples_split=15, n_estimators=800 ...........\n[CV]  max_depth=100, min_samples_split=15, n_estimators=800, score=0.761, total=   8.2s\n[CV] max_depth=150, min_samples_split=6, n_estimators=100 ............\n[CV]  max_depth=150, min_samples_split=6, n_estimators=100, score=0.775, total=   1.1s\n[CV] max_depth=150, min_samples_split=6, n_estimators=100 ............\n[CV]  max_depth=150, min_samples_split=6, n_estimators=100, score=0.782, total=   1.1s\n[CV] max_depth=150, min_samples_split=6, n_estimators=100 ............\n[CV]  max_depth=150, min_samples_split=6, n_estimators=100, score=0.775, total=   1.1s\n[CV] max_depth=150, min_samples_split=6, n_estimators=100 ............\n[CV]  max_depth=150, min_samples_split=6, n_estimators=100, score=0.766, total=   1.1s\n[CV] max_depth=150, min_samples_split=6, n_estimators=100 ............\n[CV]  max_depth=150, min_samples_split=6, n_estimators=100, score=0.760, total=   1.1s\n[CV] max_depth=150, min_samples_split=6, n_estimators=200 ............\n[CV]  max_depth=150, min_samples_split=6, n_estimators=200, score=0.780, total=   2.2s\n[CV] max_depth=150, min_samples_split=6, n_estimators=200 ............\n[CV]  max_depth=150, min_samples_split=6, n_estimators=200, score=0.775, total=   2.1s\n[CV] max_depth=150, min_samples_split=6, n_estimators=200 ............\n[CV]  max_depth=150, min_samples_split=6, n_estimators=200, score=0.772, total=   2.1s\n[CV] max_depth=150, min_samples_split=6, n_estimators=200 ............\n[CV]  max_depth=150, min_samples_split=6, n_estimators=200, score=0.767, total=   2.1s\n[CV] max_depth=150, min_samples_split=6, n_estimators=200 ............\n[CV]  max_depth=150, min_samples_split=6, n_estimators=200, score=0.759, total=   2.2s\n[CV] max_depth=150, min_samples_split=6, n_estimators=300 ............\n[CV]  max_depth=150, min_samples_split=6, n_estimators=300, score=0.780, total=   3.2s\n[CV] max_depth=150, min_samples_split=6, n_estimators=300 ............\n[CV]  max_depth=150, min_samples_split=6, n_estimators=300, score=0.782, total=   3.2s\n[CV] max_depth=150, min_samples_split=6, n_estimators=300 ............\n[CV]  max_depth=150, min_samples_split=6, n_estimators=300, score=0.765, total=   3.2s\n[CV] max_depth=150, min_samples_split=6, n_estimators=300 ............\n[CV]  max_depth=150, min_samples_split=6, n_estimators=300, score=0.772, total=   3.2s\n[CV] max_depth=150, min_samples_split=6, n_estimators=300 ............\n[CV]  max_depth=150, min_samples_split=6, n_estimators=300, score=0.760, total=   3.2s\n[CV] max_depth=150, min_samples_split=6, n_estimators=800 ............\n[CV]  max_depth=150, min_samples_split=6, n_estimators=800, score=0.780, total=   8.6s\n[CV] max_depth=150, min_samples_split=6, n_estimators=800 ............\n[CV]  max_depth=150, min_samples_split=6, n_estimators=800, score=0.783, total=   8.5s\n[CV] max_depth=150, min_samples_split=6, n_estimators=800 ............\n[CV]  max_depth=150, min_samples_split=6, n_estimators=800, score=0.766, total=   8.4s\n[CV] max_depth=150, min_samples_split=6, n_estimators=800 ............\n[CV]  max_depth=150, min_samples_split=6, n_estimators=800, score=0.766, total=   8.4s\n[CV] max_depth=150, min_samples_split=6, n_estimators=800 ............\n[CV]  max_depth=150, min_samples_split=6, n_estimators=800, score=0.769, total=   8.5s\n[CV] max_depth=150, min_samples_split=12, n_estimators=100 ...........\n[CV]  max_depth=150, min_samples_split=12, n_estimators=100, score=0.783, total=   1.1s\n[CV] max_depth=150, min_samples_split=12, n_estimators=100 ...........\n[CV]  max_depth=150, min_samples_split=12, n_estimators=100, score=0.773, total=   1.0s\n[CV] max_depth=150, min_samples_split=12, n_estimators=100 ...........\n[CV]  max_depth=150, min_samples_split=12, n_estimators=100, score=0.764, total=   1.1s\n[CV] max_depth=150, min_samples_split=12, n_estimators=100 ...........\n[CV]  max_depth=150, min_samples_split=12, n_estimators=100, score=0.771, total=   1.0s\n[CV] max_depth=150, min_samples_split=12, n_estimators=100 ...........\n[CV]  max_depth=150, min_samples_split=12, n_estimators=100, score=0.764, total=   1.1s\n[CV] max_depth=150, min_samples_split=12, n_estimators=200 ...........\n[CV]  max_depth=150, min_samples_split=12, n_estimators=200, score=0.770, total=   2.1s\n[CV] max_depth=150, min_samples_split=12, n_estimators=200 ...........\n[CV]  max_depth=150, min_samples_split=12, n_estimators=200, score=0.782, total=   2.1s\n[CV] max_depth=150, min_samples_split=12, n_estimators=200 ...........\n[CV]  max_depth=150, min_samples_split=12, n_estimators=200, score=0.775, total=   2.1s\n[CV] max_depth=150, min_samples_split=12, n_estimators=200 ...........\n[CV]  max_depth=150, min_samples_split=12, n_estimators=200, score=0.763, total=   2.1s\n[CV] max_depth=150, min_samples_split=12, n_estimators=200 ...........\n[CV]  max_depth=150, min_samples_split=12, n_estimators=200, score=0.764, total=   2.1s\n[CV] max_depth=150, min_samples_split=12, n_estimators=300 ...........\n[CV]  max_depth=150, min_samples_split=12, n_estimators=300, score=0.769, total=   3.2s\n[CV] max_depth=150, min_samples_split=12, n_estimators=300 ...........\n[CV]  max_depth=150, min_samples_split=12, n_estimators=300, score=0.781, total=   3.1s\n[CV] max_depth=150, min_samples_split=12, n_estimators=300 ...........\n[CV]  max_depth=150, min_samples_split=12, n_estimators=300, score=0.768, total=   3.1s\n[CV] max_depth=150, min_samples_split=12, n_estimators=300 ...........\n[CV]  max_depth=150, min_samples_split=12, n_estimators=300, score=0.767, total=   3.1s\n[CV] max_depth=150, min_samples_split=12, n_estimators=300 ...........\n[CV]  max_depth=150, min_samples_split=12, n_estimators=300, score=0.767, total=   3.1s\n[CV] max_depth=150, min_samples_split=12, n_estimators=800 ...........\n[CV]  max_depth=150, min_samples_split=12, n_estimators=800, score=0.778, total=   8.6s\n[CV] max_depth=150, min_samples_split=12, n_estimators=800 ...........\n[CV]  max_depth=150, min_samples_split=12, n_estimators=800, score=0.780, total=   8.4s\n[CV] max_depth=150, min_samples_split=12, n_estimators=800 ...........\n[CV]  max_depth=150, min_samples_split=12, n_estimators=800, score=0.772, total=   8.3s\n[CV] max_depth=150, min_samples_split=12, n_estimators=800 ...........\n[CV]  max_depth=150, min_samples_split=12, n_estimators=800, score=0.766, total=   8.4s\n[CV] max_depth=150, min_samples_split=12, n_estimators=800 ...........\n[CV]  max_depth=150, min_samples_split=12, n_estimators=800, score=0.762, total=   8.5s\n[CV] max_depth=150, min_samples_split=15, n_estimators=100 ...........\n[CV]  max_depth=150, min_samples_split=15, n_estimators=100, score=0.764, total=   1.0s\n[CV] max_depth=150, min_samples_split=15, n_estimators=100 ...........\n[CV]  max_depth=150, min_samples_split=15, n_estimators=100, score=0.777, total=   1.0s\n[CV] max_depth=150, min_samples_split=15, n_estimators=100 ...........\n[CV]  max_depth=150, min_samples_split=15, n_estimators=100, score=0.767, total=   1.0s\n[CV] max_depth=150, min_samples_split=15, n_estimators=100 ...........\n[CV]  max_depth=150, min_samples_split=15, n_estimators=100, score=0.765, total=   1.0s\n[CV] max_depth=150, min_samples_split=15, n_estimators=100 ...........\n[CV]  max_depth=150, min_samples_split=15, n_estimators=100, score=0.762, total=   1.0s\n[CV] max_depth=150, min_samples_split=15, n_estimators=200 ...........\n[CV]  max_depth=150, min_samples_split=15, n_estimators=200, score=0.770, total=   2.2s\n[CV] max_depth=150, min_samples_split=15, n_estimators=200 ...........\n[CV]  max_depth=150, min_samples_split=15, n_estimators=200, score=0.786, total=   2.1s\n[CV] max_depth=150, min_samples_split=15, n_estimators=200 ...........\n[CV]  max_depth=150, min_samples_split=15, n_estimators=200, score=0.774, total=   2.1s\n[CV] max_depth=150, min_samples_split=15, n_estimators=200 ...........\n[CV]  max_depth=150, min_samples_split=15, n_estimators=200, score=0.769, total=   2.1s\n[CV] max_depth=150, min_samples_split=15, n_estimators=200 ...........\n[CV]  max_depth=150, min_samples_split=15, n_estimators=200, score=0.756, total=   2.1s\n[CV] max_depth=150, min_samples_split=15, n_estimators=300 ...........\n[CV]  max_depth=150, min_samples_split=15, n_estimators=300, score=0.774, total=   3.6s\n[CV] max_depth=150, min_samples_split=15, n_estimators=300 ...........\n[CV]  max_depth=150, min_samples_split=15, n_estimators=300, score=0.778, total=   3.6s\n[CV] max_depth=150, min_samples_split=15, n_estimators=300 ...........\n[CV]  max_depth=150, min_samples_split=15, n_estimators=300, score=0.770, total=   3.6s\n[CV] max_depth=150, min_samples_split=15, n_estimators=300 ...........\n[CV]  max_depth=150, min_samples_split=15, n_estimators=300, score=0.766, total=   3.7s\n[CV] max_depth=150, min_samples_split=15, n_estimators=300 ...........\n[CV]  max_depth=150, min_samples_split=15, n_estimators=300, score=0.765, total=   3.7s\n[CV] max_depth=150, min_samples_split=15, n_estimators=800 ...........\n[CV]  max_depth=150, min_samples_split=15, n_estimators=800, score=0.770, total=   9.8s\n[CV] max_depth=150, min_samples_split=15, n_estimators=800 ...........\n[CV]  max_depth=150, min_samples_split=15, n_estimators=800, score=0.785, total=   9.9s\n[CV] max_depth=150, min_samples_split=15, n_estimators=800 ...........\n[CV]  max_depth=150, min_samples_split=15, n_estimators=800, score=0.778, total=   9.8s\n[CV] max_depth=150, min_samples_split=15, n_estimators=800 ...........\n[CV]  max_depth=150, min_samples_split=15, n_estimators=800, score=0.770, total=   9.5s\n[CV] max_depth=150, min_samples_split=15, n_estimators=800 ...........\n[CV]  max_depth=150, min_samples_split=15, n_estimators=800, score=0.759, total=   9.7s\n[Parallel(n_jobs=1)]: Done 240 out of 240 | elapsed: 15.0min finished\n"
    },
    {
     "output_type": "execute_result",
     "data": {
      "text/plain": "GridSearchCV(estimator=RandomForestClassifier(n_estimators=200),\n             param_grid={'max_depth': [80, 90, 100, 150],\n                         'min_samples_split': [6, 12, 15],\n                         'n_estimators': [100, 200, 300, 800]},\n             verbose=3)"
     },
     "metadata": {},
     "execution_count": 51
    }
   ],
   "source": [
    "# Train the model with GridSearch\n",
    "grid.fit(X_train_scaled, y_train)"
   ]
  },
  {
   "cell_type": "code",
   "execution_count": 52,
   "metadata": {
    "tags": []
   },
   "outputs": [
    {
     "output_type": "stream",
     "name": "stdout",
     "text": "{'max_depth': 100, 'min_samples_split': 12, 'n_estimators': 300}\n0.7732185869494029\n"
    }
   ],
   "source": [
    "print(grid.best_params_)\n",
    "print(grid.best_score_)"
   ]
  },
  {
   "cell_type": "code",
   "execution_count": 54,
   "metadata": {},
   "outputs": [
    {
     "output_type": "execute_result",
     "data": {
      "text/plain": "0.7705949656750573"
     },
     "metadata": {},
     "execution_count": 54
    }
   ],
   "source": [
    "rf = RandomForestClassifier(n_estimators=300,max_depth=100,min_samples_split=12)\n",
    "rf = rf.fit(X_train_scaled, y_train)\n",
    "rf.score(X_test_scaled, y_test)"
   ]
  },
  {
   "cell_type": "markdown",
   "metadata": {},
   "source": [
    "# Save the Model"
   ]
  },
  {
   "cell_type": "code",
   "execution_count": 55,
   "metadata": {},
   "outputs": [
    {
     "output_type": "execute_result",
     "data": {
      "text/plain": "['chris_chiang.sav']"
     },
     "metadata": {},
     "execution_count": 55
    }
   ],
   "source": [
    "# save your model by updating \"your_name\" with your name\n",
    "# and \"your_model\" with your model variable\n",
    "# be sure to turn this in to BCS\n",
    "# if joblib fails to import, try running the command to install in terminal/git-bash\n",
    "import joblib\n",
    "filename = 'chris_chiang.sav'\n",
    "joblib.dump(rf, filename)"
   ]
  },
  {
   "cell_type": "code",
   "execution_count": null,
   "metadata": {},
   "outputs": [],
   "source": []
  }
 ],
 "metadata": {
  "kernel_info": {
   "name": "dev"
  },
  "kernelspec": {
   "display_name": "Python 3.7.4 64-bit ('base': conda)",
   "language": "python",
   "name": "python37464bitbaseconda6b55c75a92594a4496380a81f2f453fd"
  },
  "language_info": {
   "codemirror_mode": {
    "name": "ipython",
    "version": 3
   },
   "file_extension": ".py",
   "mimetype": "text/x-python",
   "name": "python",
   "nbconvert_exporter": "python",
   "pygments_lexer": "ipython3",
   "version": "3.7.4-final"
  },
  "nteract": {
   "version": "0.12.3"
  }
 },
 "nbformat": 4,
 "nbformat_minor": 2
}