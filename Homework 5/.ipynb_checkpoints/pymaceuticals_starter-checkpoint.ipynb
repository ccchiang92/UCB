{
 "cells": [
  {
   "cell_type": "markdown",
   "metadata": {},
   "source": [
    "## Observations and Insights"
   ]
  },
  {
   "cell_type": "markdown",
   "metadata": {},
   "source": []
  },
  {
   "cell_type": "markdown",
   "metadata": {},
   "source": [
    "## Dependencies and starter code"
   ]
  },
  {
   "cell_type": "code",
   "execution_count": 31,
   "metadata": {},
   "outputs": [
    {
     "data": {
      "text/html": [
       "<div>\n",
       "<style scoped>\n",
       "    .dataframe tbody tr th:only-of-type {\n",
       "        vertical-align: middle;\n",
       "    }\n",
       "\n",
       "    .dataframe tbody tr th {\n",
       "        vertical-align: top;\n",
       "    }\n",
       "\n",
       "    .dataframe thead th {\n",
       "        text-align: right;\n",
       "    }\n",
       "</style>\n",
       "<table border=\"1\" class=\"dataframe\">\n",
       "  <thead>\n",
       "    <tr style=\"text-align: right;\">\n",
       "      <th></th>\n",
       "      <th>Mouse ID</th>\n",
       "      <th>Drug</th>\n",
       "      <th>Timepoint</th>\n",
       "      <th>Tumor Volume (mm3)</th>\n",
       "      <th>Metastatic Sites</th>\n",
       "    </tr>\n",
       "  </thead>\n",
       "  <tbody>\n",
       "    <tr>\n",
       "      <td>0</td>\n",
       "      <td>f234</td>\n",
       "      <td>Stelasyn</td>\n",
       "      <td>0</td>\n",
       "      <td>45.000000</td>\n",
       "      <td>0</td>\n",
       "    </tr>\n",
       "    <tr>\n",
       "      <td>1</td>\n",
       "      <td>f234</td>\n",
       "      <td>Stelasyn</td>\n",
       "      <td>5</td>\n",
       "      <td>47.313491</td>\n",
       "      <td>0</td>\n",
       "    </tr>\n",
       "    <tr>\n",
       "      <td>2</td>\n",
       "      <td>f234</td>\n",
       "      <td>Stelasyn</td>\n",
       "      <td>10</td>\n",
       "      <td>47.904324</td>\n",
       "      <td>0</td>\n",
       "    </tr>\n",
       "    <tr>\n",
       "      <td>3</td>\n",
       "      <td>f234</td>\n",
       "      <td>Stelasyn</td>\n",
       "      <td>15</td>\n",
       "      <td>48.735197</td>\n",
       "      <td>1</td>\n",
       "    </tr>\n",
       "    <tr>\n",
       "      <td>4</td>\n",
       "      <td>f234</td>\n",
       "      <td>Stelasyn</td>\n",
       "      <td>20</td>\n",
       "      <td>51.112713</td>\n",
       "      <td>2</td>\n",
       "    </tr>\n",
       "  </tbody>\n",
       "</table>\n",
       "</div>"
      ],
      "text/plain": [
       "  Mouse ID      Drug  Timepoint  Tumor Volume (mm3)  Metastatic Sites\n",
       "0     f234  Stelasyn          0           45.000000                 0\n",
       "1     f234  Stelasyn          5           47.313491                 0\n",
       "2     f234  Stelasyn         10           47.904324                 0\n",
       "3     f234  Stelasyn         15           48.735197                 1\n",
       "4     f234  Stelasyn         20           51.112713                 2"
      ]
     },
     "execution_count": 31,
     "metadata": {},
     "output_type": "execute_result"
    }
   ],
   "source": [
    "# Dependencies and Setup\n",
    "%matplotlib inline\n",
    "import matplotlib.pyplot as plt\n",
    "import pandas as pd\n",
    "import scipy.stats as st\n",
    "import numpy as np\n",
    "\n",
    "# Study data files\n",
    "mouse_metadata = \"data/mouse_drug_data.csv\"\n",
    "study_results = \"data/clinicaltrial_data.csv\"\n",
    "\n",
    "# Read the mouse data and the study results\n",
    "mouse_metadata = pd.read_csv(mouse_metadata)\n",
    "study_results = pd.read_csv(study_results)\n",
    "\n",
    "# Combine the data into a single dataset\n",
    "combine_df = pd.merge(mouse_metadata, study_results, on=\"Mouse ID\")\n",
    "\n",
    "\n",
    "combine_df.head()"
   ]
  },
  {
   "cell_type": "markdown",
   "metadata": {},
   "source": [
    "## Summary statistics"
   ]
  },
  {
   "cell_type": "code",
   "execution_count": 60,
   "metadata": {},
   "outputs": [
    {
     "name": "stdout",
     "output_type": "stream",
     "text": [
      "Capomulin Summary Table\n",
      "                Mean     Median   Variance  Standard Deviation       SEM\n",
      "Timepoint                                                               \n",
      "0          45.000000  45.000000   0.000000            0.000000  0.000000\n",
      "5          44.266086  45.597064   5.030889            2.242964  0.448593\n",
      "10         43.084291  43.421014  12.344133            3.513422  0.702684\n",
      "15         42.064317  42.798160  16.878693            4.108369  0.838617\n",
      "20         40.716325  40.716428  19.035028            4.362915  0.909731\n",
      "25         39.939528  40.224165  17.100444            4.135268  0.881642\n",
      "30         38.769339  39.260371  19.210721            4.383004  0.934460\n",
      "35         37.816839  38.360455  24.358640            4.935447  1.052241\n",
      "40         36.958001  36.843898  31.441568            5.607278  1.223608\n",
      "45         36.236114  37.311846  31.460537            5.608969  1.223977\n",
      "----------------------------------------\n",
      "Ceftamin Summary Table\n",
      "                Mean     Median   Variance  Standard Deviation       SEM\n",
      "Timepoint                                                               \n",
      "0          45.000000  45.000000   0.000000            0.000000  0.000000\n",
      "5          46.503051  46.370798   0.568299            0.753856  0.164505\n",
      "10         48.285125  48.164520   1.115284            1.056070  0.236144\n",
      "15         50.094055  49.746427   2.094922            1.447385  0.332053\n",
      "20         52.157049  52.112973   2.326097            1.525155  0.359482\n",
      "25         54.287674  54.275954   3.474610            1.864031  0.439356\n",
      "30         56.769517  56.362744   3.851331            1.962481  0.490620\n",
      "35         58.827548  58.208362   6.708893            2.590153  0.692248\n",
      "40         61.467895  60.600972   7.027713            2.650983  0.708505\n",
      "45         64.132421  64.299830  10.585242            3.253497  0.902358\n",
      "----------------------------------------\n",
      "Infubinol Summary Table\n",
      "                Mean     Median   Variance  Standard Deviation       SEM\n",
      "Timepoint                                                               \n",
      "0          45.000000  45.000000   0.000000            0.000000  0.000000\n",
      "5          47.062001  46.877243   1.381827            1.175512  0.235102\n",
      "10         49.403909  49.471244   1.674104            1.293872  0.282346\n",
      "15         51.296397  51.265440   2.687010            1.639210  0.357705\n",
      "20         53.197691  53.862724   4.535510            2.129674  0.476210\n",
      "25         55.715252  55.924633   5.451230            2.334787  0.550315\n",
      "30         58.299397  59.133640   6.770048            2.601931  0.631061\n",
      "35         60.742461  60.722723  11.622731            3.409213  0.984155\n",
      "40         63.162824  63.344283  11.134885            3.336898  1.055220\n",
      "45         65.755562  66.083066  11.787426            3.433282  1.144427\n",
      "----------------------------------------\n",
      "Ketapril Summary Table\n",
      "                Mean     Median   Variance  Standard Deviation       SEM\n",
      "Timepoint                                                               \n",
      "0          45.000000  45.000000   0.000000            0.000000  0.000000\n",
      "5          47.389175  47.059664   1.612964            1.270025  0.264819\n",
      "10         49.582269  49.797416   2.810499            1.676454  0.357421\n",
      "15         52.399974  52.246310   6.397507            2.529329  0.580268\n",
      "20         54.920935  54.250054  10.027796            3.166670  0.726484\n",
      "25         57.678982  56.957917  10.842320            3.292768  0.755413\n",
      "30         60.994507  60.296505  15.706472            3.963139  0.934121\n",
      "35         63.371686  62.539154  21.625434            4.650315  1.127867\n",
      "40         66.068580  66.229606  20.130057            4.486653  1.158449\n",
      "45         70.662958  69.872251  23.229260            4.819674  1.453186\n",
      "----------------------------------------\n",
      "Naftisol Summary Table\n",
      "                Mean     Median   Variance  Standard Deviation       SEM\n",
      "Timepoint                                                               \n",
      "0          45.000000  45.000000   0.000000            0.000000  0.000000\n",
      "5          46.796098  46.621301   0.942076            0.970606  0.202385\n",
      "10         48.694210  48.185373   2.142546            1.463744  0.319415\n",
      "15         50.933018  50.666054   4.146905            2.036395  0.444378\n",
      "20         53.644087  52.855576   7.086694            2.662084  0.595260\n",
      "25         56.731968  56.928663  11.918128            3.452264  0.813706\n",
      "30         59.559509  59.789636  14.273894            3.778081  0.975496\n",
      "35         62.685087  61.893153  15.415904            3.926309  1.013769\n",
      "40         65.600754  65.466074  18.767896            4.332193  1.118567\n",
      "45         69.265506  69.563621  26.079104            5.106770  1.416363\n",
      "----------------------------------------\n",
      "Placebo Summary Table\n",
      "                Mean     Median   Variance  Standard Deviation       SEM\n",
      "Timepoint                                                               \n",
      "0          45.000000  45.000000   0.000000            0.000000  0.000000\n",
      "5          47.125589  46.989764   1.141526            1.068422  0.218091\n",
      "10         49.423329  49.109721   3.879727            1.969702  0.402064\n",
      "15         51.359742  51.271314   7.551257            2.747955  0.614461\n",
      "20         54.364417  53.006865  13.393928            3.659772  0.839609\n",
      "25         57.482574  57.106418  18.206321            4.266887  1.034872\n",
      "30         59.809063  59.916934  22.261308            4.718189  1.218231\n",
      "35         62.420615  62.970450  23.206488            4.817311  1.287481\n",
      "40         65.052675  66.287744  22.543652            4.748016  1.370634\n",
      "45         68.084082  69.042841  20.098783            4.483167  1.351726\n",
      "----------------------------------------\n",
      "Propriva Summary Table\n",
      "                Mean     Median   Variance  Standard Deviation       SEM\n",
      "Timepoint                                                               \n",
      "0          45.000000  45.000000   0.000000            0.000000  0.000000\n",
      "5          47.248967  47.115980   1.342215            1.158540  0.231708\n",
      "10         49.101541  48.929895   3.255018            1.804167  0.376195\n",
      "15         51.067318  51.007258   3.693385            1.921818  0.466109\n",
      "20         53.346737  53.744734   5.239840            2.289070  0.555181\n",
      "25         55.504138  55.899823   4.667490            2.160438  0.577401\n",
      "30         58.196374  58.952829   7.235572            2.689902  0.746045\n",
      "35         60.350199  61.367216  11.770714            3.430847  1.084929\n",
      "40         63.045537  62.324348  22.036801            4.694337  1.564779\n",
      "45         66.258529  64.957562  24.967290            4.996728  1.888586\n",
      "----------------------------------------\n",
      "Ramicane Summary Table\n",
      "                Mean     Median   Variance  Standard Deviation       SEM\n",
      "Timepoint                                                               \n",
      "0          45.000000  45.000000   0.000000            0.000000  0.000000\n",
      "5          43.944859  45.521875   5.831150            2.414777  0.482955\n",
      "10         42.531957  42.832023  12.449365            3.528366  0.720225\n",
      "15         41.495061  41.262007  14.245578            3.774331  0.770432\n",
      "20         40.238325  40.772803  14.216521            3.770480  0.786199\n",
      "25         38.974300  38.097513  12.833914            3.582445  0.746991\n",
      "30         38.703137  38.242066  17.205421            4.147942  0.864906\n",
      "35         37.451996  37.624710  19.654473            4.433337  0.967433\n",
      "40         36.574081  35.668692  25.467778            5.046561  1.128445\n",
      "45         34.955595  34.848627  30.101010            5.486439  1.226805\n",
      "----------------------------------------\n",
      "Stelasyn Summary Table\n",
      "                Mean     Median   Variance  Standard Deviation       SEM\n",
      "Timepoint                                                               \n",
      "0          45.000000  45.000000   0.000000            0.000000  0.000000\n",
      "5          47.527452  47.313491   1.438350            1.199312  0.239862\n",
      "10         49.463844  48.957919   4.325769            2.079848  0.433678\n",
      "15         51.529409  51.325852   5.596049            2.365597  0.493261\n",
      "20         54.067395  54.228091   8.121660            2.849853  0.621889\n",
      "25         56.166123  56.469987  10.458531            3.233965  0.741922\n",
      "30         59.826738  60.598649  14.565366            3.816460  0.899548\n",
      "35         62.440699  63.723016  16.102125            4.012745  1.003186\n",
      "40         65.356386  67.396174  23.871927            4.885891  1.410435\n",
      "45         68.438310  69.299149  27.340818            5.228845  1.576556\n",
      "----------------------------------------\n",
      "Zoniferol Summary Table\n",
      "                Mean     Median   Variance  Standard Deviation       SEM\n",
      "Timepoint                                                               \n",
      "0          45.000000  45.000000   0.000000            0.000000  0.000000\n",
      "5          46.851818  46.736212   0.856853            0.925664  0.188950\n",
      "10         48.689881  48.334346   1.532725            1.238033  0.263949\n",
      "15         50.779059  50.583557   2.883366            1.698048  0.370544\n",
      "20         53.170334  52.693423   4.832817            2.198367  0.533182\n",
      "25         55.432935  55.676604   5.808348            2.410052  0.602513\n",
      "30         57.713531  57.419744   9.601024            3.098552  0.800043\n",
      "35         60.089372  60.365832  10.876760            3.297993  0.881426\n",
      "40         62.916692  62.274543  13.958456            3.736102  0.998515\n",
      "45         65.960888  65.684689  14.100301            3.755037  1.003576\n",
      "----------------------------------------\n"
     ]
    }
   ],
   "source": [
    "# Generate a summary statistics table of mean, median, variance, standard deviation, and SEM of the tumor volume for each regimen\n",
    "\n",
    "combine_gb = combine_df.groupby([\"Drug\", \"Timepoint\"])[\"Tumor Volume (mm3)\"]\n",
    "\n",
    "mean_gb = combine_gb.mean().to_frame().reset_index().groupby(\"Drug\")\n",
    "median_gb = combine_gb.median().to_frame().reset_index().groupby(\"Drug\")\n",
    "std_gb = combine_gb.std().to_frame().reset_index().groupby(\"Drug\")\n",
    "var_gb = combine_gb.var().to_frame().reset_index().groupby(\"Drug\")\n",
    "sem_gb = combine_gb.sem().to_frame().reset_index().groupby(\"Drug\")\n",
    "\n",
    "sum_tables = {}\n",
    "for drug in mean_gb.groups:\n",
    "    cur_drug_df = pd.DataFrame()\n",
    "    cur_drug_df[\"Mean\"] = mean_gb.get_group(drug).set_index(\"Timepoint\")[\n",
    "        \"Tumor Volume (mm3)\"]\n",
    "    cur_drug_df[\"Median\"] = median_gb.get_group(drug).set_index(\"Timepoint\")[\n",
    "        \"Tumor Volume (mm3)\"]\n",
    "    cur_drug_df[\"Variance\"] = var_gb.get_group(drug).set_index(\"Timepoint\")[\n",
    "        \"Tumor Volume (mm3)\"]\n",
    "    cur_drug_df[\"Standard Deviation\"] = std_gb.get_group(\n",
    "        drug).set_index(\"Timepoint\")[\"Tumor Volume (mm3)\"]\n",
    "    cur_drug_df[\"SEM\"] = sem_gb.get_group(drug).set_index(\"Timepoint\")[\n",
    "        \"Tumor Volume (mm3)\"]\n",
    "    sum_tables[drug] = cur_drug_df\n",
    "    print(drug + \" Summary Table\")\n",
    "    print(cur_drug_df)\n",
    "    print(\"-\"*40)\n",
    "drug_names = list(sum_tables.keys())"
   ]
  },
  {
   "cell_type": "markdown",
   "metadata": {},
   "source": [
    "## Bar plots"
   ]
  },
  {
   "cell_type": "code",
   "execution_count": 138,
   "metadata": {},
   "outputs": [
    {
     "data": {
      "text/plain": [
       "(-0.5, 9.5)"
      ]
     },
     "execution_count": 138,
     "metadata": {},
     "output_type": "execute_result"
    },
    {
     "data": {
      "image/png": "[encoded data removed]",
      "text/plain": [
       "<Figure size 432x288 with 1 Axes>"
      ]
     },
     "metadata": {
      "needs_background": "light"
     },
     "output_type": "display_data"
    }
   ],
   "source": [
    "# Generate a bar plot showing number of data points for each treatment regimen using pandas\n",
    "drug_num = len(drug_names)\n",
    "color_list = [\"C\" + str(i) for i in range(drug_num)]\n",
    "pd_bar = combine_df.groupby(\"Drug\")[\"Mouse ID\"].count().plot.bar(\n",
    "    color=color_list, rot= 45, width= 0.55)\n",
    "\n",
    "pd_bar.set_title(\"Data Points per Drug by pandas\")\n",
    "pd_bar.set_xlabel(\"Drug Regimens\")\n",
    "pd_bar.set_ylabel(\"Number of Data points\")\n",
    "pd_bar.set_ylim(0, combine_df.groupby(\"Drug\")[\"Mouse ID\"].count().max()+ 10)\n",
    "pd_bar.set_xlim(-0.5, drug_num - 0.5)"
   ]
  },
  {
   "cell_type": "code",
   "execution_count": 139,
   "metadata": {},
   "outputs": [
    {
     "data": {
      "text/plain": [
       "(-0.5, 9.5)"
      ]
     },
     "execution_count": 139,
     "metadata": {},
     "output_type": "execute_result"
    },
    {
     "data": {
      "image/png": "[encoded data removed]",
      "text/plain": [
       "<Figure size 432x288 with 1 Axes>"
      ]
     },
     "metadata": {
      "needs_background": "light"
     },
     "output_type": "display_data"
    }
   ],
   "source": [
    "# Generate a bar plot showing number of data points for each treatment regimen using pyplot\n",
    "fig_bar, ax_bar= plt.subplots()\n",
    "#fig_bar = plt.bar(drug_names,combine_df.groupby(\"Drug\")[\"Mouse ID\"].count())\n",
    "ax_bar.bar(drug_names, combine_df.groupby(\"Drug\")[\n",
    "           \"Mouse ID\"].count(), color= color_list, width= 0.55)\n",
    "plt.xticks(rotation= 45)\n",
    "ax_bar.set_title(\"Data Points per Drug by pyplot\")\n",
    "ax_bar.set_xlabel(\"Drug Regimens\")\n",
    "ax_bar.set_ylabel(\"Number of Data points\")\n",
    "ax_bar.set_ylim(0, combine_df.groupby(\"Drug\")[\"Mouse ID\"].count().max()+ 10)\n",
    "ax_bar.set_xlim(-0.5, drug_num- 0.5)"
   ]
  },
  {
   "cell_type": "markdown",
   "metadata": {},
   "source": [
    "## Pie plots"
   ]
  },
  {
   "cell_type": "code",
   "execution_count": 112,
   "metadata": {},
   "outputs": [
    {
     "data": {
      "text/html": [
       "<div>\n",
       "<style scoped>\n",
       "    .dataframe tbody tr th:only-of-type {\n",
       "        vertical-align: middle;\n",
       "    }\n",
       "\n",
       "    .dataframe tbody tr th {\n",
       "        vertical-align: top;\n",
       "    }\n",
       "\n",
       "    .dataframe thead th {\n",
       "        text-align: right;\n",
       "    }\n",
       "</style>\n",
       "<table border=\"1\" class=\"dataframe\">\n",
       "  <thead>\n",
       "    <tr style=\"text-align: right;\">\n",
       "      <th></th>\n",
       "      <th>Mouse ID</th>\n",
       "      <th>Drug</th>\n",
       "      <th>Timepoint</th>\n",
       "      <th>Tumor Volume (mm3)</th>\n",
       "      <th>Metastatic Sites</th>\n",
       "    </tr>\n",
       "  </thead>\n",
       "  <tbody>\n",
       "    <tr>\n",
       "      <td>0</td>\n",
       "      <td>f234</td>\n",
       "      <td>Stelasyn</td>\n",
       "      <td>0</td>\n",
       "      <td>45.000000</td>\n",
       "      <td>0</td>\n",
       "    </tr>\n",
       "    <tr>\n",
       "      <td>1</td>\n",
       "      <td>f234</td>\n",
       "      <td>Stelasyn</td>\n",
       "      <td>5</td>\n",
       "      <td>47.313491</td>\n",
       "      <td>0</td>\n",
       "    </tr>\n",
       "    <tr>\n",
       "      <td>2</td>\n",
       "      <td>f234</td>\n",
       "      <td>Stelasyn</td>\n",
       "      <td>10</td>\n",
       "      <td>47.904324</td>\n",
       "      <td>0</td>\n",
       "    </tr>\n",
       "    <tr>\n",
       "      <td>3</td>\n",
       "      <td>f234</td>\n",
       "      <td>Stelasyn</td>\n",
       "      <td>15</td>\n",
       "      <td>48.735197</td>\n",
       "      <td>1</td>\n",
       "    </tr>\n",
       "    <tr>\n",
       "      <td>4</td>\n",
       "      <td>f234</td>\n",
       "      <td>Stelasyn</td>\n",
       "      <td>20</td>\n",
       "      <td>51.112713</td>\n",
       "      <td>2</td>\n",
       "    </tr>\n",
       "    <tr>\n",
       "      <td>...</td>\n",
       "      <td>...</td>\n",
       "      <td>...</td>\n",
       "      <td>...</td>\n",
       "      <td>...</td>\n",
       "      <td>...</td>\n",
       "    </tr>\n",
       "    <tr>\n",
       "      <td>1901</td>\n",
       "      <td>j235</td>\n",
       "      <td>Placebo</td>\n",
       "      <td>0</td>\n",
       "      <td>45.000000</td>\n",
       "      <td>0</td>\n",
       "    </tr>\n",
       "    <tr>\n",
       "      <td>1902</td>\n",
       "      <td>j235</td>\n",
       "      <td>Placebo</td>\n",
       "      <td>5</td>\n",
       "      <td>46.588820</td>\n",
       "      <td>0</td>\n",
       "    </tr>\n",
       "    <tr>\n",
       "      <td>1903</td>\n",
       "      <td>j235</td>\n",
       "      <td>Placebo</td>\n",
       "      <td>10</td>\n",
       "      <td>48.018788</td>\n",
       "      <td>1</td>\n",
       "    </tr>\n",
       "    <tr>\n",
       "      <td>1904</td>\n",
       "      <td>j235</td>\n",
       "      <td>Placebo</td>\n",
       "      <td>15</td>\n",
       "      <td>51.161138</td>\n",
       "      <td>1</td>\n",
       "    </tr>\n",
       "    <tr>\n",
       "      <td>1905</td>\n",
       "      <td>j235</td>\n",
       "      <td>Placebo</td>\n",
       "      <td>20</td>\n",
       "      <td>52.942902</td>\n",
       "      <td>1</td>\n",
       "    </tr>\n",
       "  </tbody>\n",
       "</table>\n",
       "<p>1906 rows × 5 columns</p>\n",
       "</div>"
      ],
      "text/plain": [
       "     Mouse ID      Drug  Timepoint  Tumor Volume (mm3)  Metastatic Sites\n",
       "0        f234  Stelasyn          0           45.000000                 0\n",
       "1        f234  Stelasyn          5           47.313491                 0\n",
       "2        f234  Stelasyn         10           47.904324                 0\n",
       "3        f234  Stelasyn         15           48.735197                 1\n",
       "4        f234  Stelasyn         20           51.112713                 2\n",
       "...       ...       ...        ...                 ...               ...\n",
       "1901     j235   Placebo          0           45.000000                 0\n",
       "1902     j235   Placebo          5           46.588820                 0\n",
       "1903     j235   Placebo         10           48.018788                 1\n",
       "1904     j235   Placebo         15           51.161138                 1\n",
       "1905     j235   Placebo         20           52.942902                 1\n",
       "\n",
       "[1906 rows x 5 columns]"
      ]
     },
     "execution_count": 112,
     "metadata": {},
     "output_type": "execute_result"
    }
   ],
   "source": [
    "# Generate a pie plot showing the distribution of female versus male mice using pandas\n",
    "combine_df"
   ]
  },
  {
   "cell_type": "code",
   "execution_count": 6,
   "metadata": {},
   "outputs": [],
   "source": [
    "# Generate a pie plot showing the distribution of female versus male mice using pyplot"
   ]
  },
  {
   "cell_type": "markdown",
   "metadata": {},
   "source": [
    "## Quartiles, outliers and boxplots"
   ]
  },
  {
   "cell_type": "code",
   "execution_count": 158,
   "metadata": {},
   "outputs": [
    {
     "data": {
      "text/plain": [
       "<matplotlib.axes._subplots.AxesSubplot at 0x247bd1962c8>"
      ]
     },
     "execution_count": 158,
     "metadata": {},
     "output_type": "execute_result"
    },
    {
     "data": {
      "image/png": "[encoded data removed]",
      "text/plain": [
       "<Figure size 432x288 with 1 Axes>"
      ]
     },
     "metadata": {
      "needs_background": "light"
     },
     "output_type": "display_data"
    }
   ],
   "source": [
    "# Calculate the final tumor volume of each mouse across four of the most promising treatment regimens. Calculate the IQR and quantitatively determine if there are any potential outliers.\n",
    "promising = [\"Capomulin\", \"Ramicane\", \"Infubinol\", \"Ceftamin\"]\n",
    "box_tables={}\n",
    "for drug in promising:\n",
    "    cur_table = combine_df.loc[(combine_df[\"Drug\"] == drug)&(combine_df[\"Timepoint\"]==45)]\n",
    "    box_tables[drug] = cur_table\n",
    "#box_df=combine_df.loc[(combine_df[\"Drug\"] == promising[0])|(combine_df[\"Drug\"] == promising[1])|(combine_df[\"Drug\"] == promising[2])|(combine_df[\"Drug\"] == promising[3])]\n",
    "#box_df_last = box_df.loc[box_df[\"Timepoint\"]==45]\n",
    "#box_df_last\n",
    "q1, q2 ,q3 = box_tables[promising[0]][\"Tumor Volume (mm3)\"].quantile([.25,.5,.75])\n",
    "IQR = q3 - q1\n",
    "lower_limit = q1 - 1.5 * IQR\n",
    "upper_limit = q3 + 1.5 * IQR\n",
    "tab = box_tables[promising[0]][\"Tumor Volume (mm3)\"]\n",
    "tab_1 = tab.loc[(tab > upper_limit) | (tab < lower_limit)]\n",
    "len(tab_1)\n",
    "tab.plot.box()"
   ]
  },
  {
   "cell_type": "code",
   "execution_count": 8,
   "metadata": {},
   "outputs": [],
   "source": [
    "# Generate a box plot of the final tumor volume of each mouse across four regimens of interest"
   ]
  },
  {
   "cell_type": "markdown",
   "metadata": {},
   "source": [
    "## Line and scatter plots"
   ]
  },
  {
   "cell_type": "code",
   "execution_count": 135,
   "metadata": {},
   "outputs": [
    {
     "data": {
      "text/plain": [
       "Text(0, 0.5, 'Tumor Size in mm3')"
      ]
     },
     "execution_count": 135,
     "metadata": {},
     "output_type": "execute_result"
    },
    {
     "data": {
      "image/png": "[encoded data removed]",
      "text/plain": [
       "<Figure size 432x288 with 1 Axes>"
      ]
     },
     "metadata": {
      "needs_background": "light"
     },
     "output_type": "display_data"
    }
   ],
   "source": [
    "# Generate a line plot of time point versus tumor volume for a mouse treated with Capomulin\n",
    "mouse_to_plot = \"b128\"\n",
    "mouse_df = combine_df.loc[(combine_df[\"Drug\"]==\"Capomulin\") & (combine_df[\"Mouse ID\"]==mouse_to_plot)]\n",
    "#mouse_df_plot = combine_df[\"Tumor Volume (mm3)\"]\n",
    "mouse_line_plot = mouse_df.plot(\"Timepoint\", \"Tumor Volume (mm3)\",label = f\"Mouse {mouse_to_plot}\")\n",
    "mouse_line_plot.set_title(f\"Mouse {mouse_to_plot}\\'s Tumor Size V.S. Time with Capomulin\")\n",
    "mouse_line_plot.set_xlabel(\"Time Points\")\n",
    "mouse_line_plot.set_ylabel(\"Tumor Size in mm3\")"
   ]
  },
  {
   "cell_type": "code",
   "execution_count": 10,
   "metadata": {},
   "outputs": [],
   "source": [
    "# Generate a scatter plot of mouse weight versus average tumor volume for the Capomulin regimen"
   ]
  },
  {
   "cell_type": "code",
   "execution_count": 11,
   "metadata": {},
   "outputs": [],
   "source": [
    "# Calculate the correlation coefficient and linear regression model for mouse weight and average tumor volume for the Capomulin regimen"
   ]
  },
  {
   "cell_type": "code",
   "execution_count": null,
   "metadata": {},
   "outputs": [],
   "source": [
    "\"\"\"What asthetic to expect\n",
    "Grid lines\n",
    "legends\n",
    "should change auto??\n",
    "rubric?\n",
    "5.3 still incorrect\n",
    "etc\"\"\""
   ]
  }
 ],
 "metadata": {
  "anaconda-cloud": {},
  "kernelspec": {
   "display_name": "Python 3",
   "language": "python",
   "name": "python3"
  },
  "language_info": {
   "codemirror_mode": {
    "name": "ipython",
    "version": 3
   },
   "file_extension": ".py",
   "mimetype": "text/x-python",
   "name": "python",
   "nbconvert_exporter": "python",
   "pygments_lexer": "ipython3",
   "version": "3.7.4"
  }
 },
 "nbformat": 4,
 "nbformat_minor": 2
}
