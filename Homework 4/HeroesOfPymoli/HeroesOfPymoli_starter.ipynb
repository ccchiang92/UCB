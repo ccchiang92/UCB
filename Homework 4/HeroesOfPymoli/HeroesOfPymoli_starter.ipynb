{
 "cells": [
  {
   "cell_type": "code",
   "execution_count": null,
   "metadata": {},
   "outputs": [],
   "source": []
  },
  {
   "cell_type": "code",
   "execution_count": null,
   "metadata": {},
   "outputs": [],
   "source": []
  },
  {
   "cell_type": "markdown",
   "execution_count": null,
   "metadata": {},
   "outputs": [],
   "source": [
    "### Note\n",
    "* Instructions have been included for each segment. You do not have to follow them exactly, but they are included to help you think through the steps."
   ]
  },
  {
   "cell_type": "code",
   "execution_count": 1,
   "metadata": {},
   "outputs": [],
   "source": [
    "# Dependencies and Setup\n",
    "import pandas as pd\n",
    "\n",
    "# File to Load (Remember to Change These)\n",
    "file_to_load = \"Resources/purchase_data.csv\"\n",
    "\n",
    "# Read Purchasing File and store into Pandas data frame\n",
    "purchase_data = pd.read_csv(file_to_load)"
   ]
  },
  {
   "cell_type": "markdown",
   "execution_count": null,
   "metadata": {},
   "outputs": [],
   "source": [
    "## Player Count"
   ]
  },
  {
   "cell_type": "markdown",
   "execution_count": null,
   "metadata": {},
   "outputs": [],
   "source": [
    "* Display the total number of players\n"
   ]
  },
  {
   "cell_type": "code",
   "execution_count": 14,
   "metadata": {},
   "outputs": [
    {
     "data": {
      "text/html": "<div>\n<style scoped>\n    .dataframe tbody tr th:only-of-type {\n        vertical-align: middle;\n    }\n\n    .dataframe tbody tr th {\n        vertical-align: top;\n    }\n\n    .dataframe thead th {\n        text-align: right;\n    }\n</style>\n<table border=\"1\" class=\"dataframe\">\n  <thead>\n    <tr style=\"text-align: right;\">\n      <th></th>\n      <th>Total Players</th>\n    </tr>\n  </thead>\n  <tbody>\n    <tr>\n      <td>0</td>\n      <td>576</td>\n    </tr>\n  </tbody>\n</table>\n</div>",
      "text/plain": "   Total Players\n0            576"
     },
     "execution_count": 14,
     "metadata": {},
     "output_type": "execute_result"
    }
   ],
   "source": [
    "# Create a list unique players then count length of that list\n",
    "player_count = len(purchase_data[\"SN\"].unique())\n",
    "pd.DataFrame({\"Total Players\": player_count},index=[0])"
   ]
  },
  {
   "cell_type": "markdown",
   "execution_count": null,
   "metadata": {},
   "outputs": [],
   "source": [
    "## Purchasing Analysis (Total)"
   ]
  },
  {
   "cell_type": "markdown",
   "execution_count": null,
   "metadata": {},
   "outputs": [],
   "source": [
    "* Run basic calculations to obtain number of unique items, average price, etc.\n",
    "\n",
    "\n",
    "* Create a summary data frame to hold the results\n",
    "\n",
    "\n",
    "* Optional: give the displayed data cleaner formatting\n",
    "\n",
    "\n",
    "* Display the summary data frame\n"
   ]
  },
  {
   "cell_type": "code",
   "execution_count": 3,
   "metadata": {},
   "outputs": [
    {
     "data": {
      "text/html": "<div>\n<style scoped>\n    .dataframe tbody tr th:only-of-type {\n        vertical-align: middle;\n    }\n\n    .dataframe tbody tr th {\n        vertical-align: top;\n    }\n\n    .dataframe thead th {\n        text-align: right;\n    }\n</style>\n<table border=\"1\" class=\"dataframe\">\n  <thead>\n    <tr style=\"text-align: right;\">\n      <th></th>\n      <th>Number of Unique Items</th>\n      <th>Average Price</th>\n      <th>Number of Purchases</th>\n      <th>Total Revenue</th>\n    </tr>\n  </thead>\n  <tbody>\n    <tr>\n      <td>0</td>\n      <td>183</td>\n      <td>$ 3.05</td>\n      <td>780</td>\n      <td>$ 2379.77</td>\n    </tr>\n  </tbody>\n</table>\n</div>",
      "text/plain": "   Number of Unique Items Average Price  Number of Purchases Total Revenue\n0                     183        $ 3.05                  780     $ 2379.77"
     },
     "execution_count": 3,
     "metadata": {},
     "output_type": "execute_result"
    }
   ],
   "source": [
    "# Creating summary table by calling individual columns and applying methods on them\n",
    "data_dic = {\"Number of Unique Items\": len(purchase_data[\"Item ID\"].unique()),\n",
    "            \"Average Price\": f'$ {round(purchase_data[\"Price\"].mean(), 2)}',\n",
    "            \"Number of Purchases\": purchase_data[\"Purchase ID\"].count(),\n",
    "            \"Total Revenue\": f'$ {purchase_data[\"Price\"].sum()}'\n",
    "            }\n",
    "sum_df = pd.DataFrame(data_dic, index=[0])\n",
    "sum_df"
   ]
  },
  {
   "cell_type": "markdown",
   "execution_count": null,
   "metadata": {},
   "outputs": [],
   "source": [
    "## Gender Demographics"
   ]
  },
  {
   "cell_type": "markdown",
   "execution_count": null,
   "metadata": {},
   "outputs": [],
   "source": [
    "* Percentage and Count of Male Players\n",
    "\n",
    "\n",
    "* Percentage and Count of Female Players\n",
    "\n",
    "\n",
    "* Percentage and Count of Other / Non-Disclosed\n",
    "\n",
    "\n"
   ]
  },
  {
   "cell_type": "code",
   "execution_count": 19,
   "metadata": {},
   "outputs": [
    {
     "data": {
      "text/html": "<div>\n<style scoped>\n    .dataframe tbody tr th:only-of-type {\n        vertical-align: middle;\n    }\n\n    .dataframe tbody tr th {\n        vertical-align: top;\n    }\n\n    .dataframe thead th {\n        text-align: right;\n    }\n</style>\n<table border=\"1\" class=\"dataframe\">\n  <thead>\n    <tr style=\"text-align: right;\">\n      <th></th>\n      <th>Total Count</th>\n      <th>Percentage of Players</th>\n    </tr>\n    <tr>\n      <th>Gender</th>\n      <th></th>\n      <th></th>\n    </tr>\n  </thead>\n  <tbody>\n    <tr>\n      <td>Female</td>\n      <td>81</td>\n      <td>14.06%</td>\n    </tr>\n    <tr>\n      <td>Male</td>\n      <td>484</td>\n      <td>84.03%</td>\n    </tr>\n    <tr>\n      <td>Other / Non-Disclosed</td>\n      <td>11</td>\n      <td>1.91%</td>\n    </tr>\n  </tbody>\n</table>\n</div>",
      "text/plain": "                       Total Count Percentage of Players\nGender                                                  \nFemale                          81                14.06%\nMale                           484                84.03%\nOther / Non-Disclosed           11                 1.91%"
     },
     "execution_count": 19,
     "metadata": {},
     "output_type": "execute_result"
    }
   ],
   "source": [
    "# Generate a unique list of players\n",
    "uni_df = purchase_data.drop_duplicates(\"SN\")\n",
    "# Creating summary tabel by grouping gender on the unique list and applying methods\n",
    "gender_sum = pd.DataFrame({\"Total Count\": uni_df.groupby(\"Gender\")[\"SN\"].count(),\n",
    "                           \"Percentage of Players\": round(uni_df.groupby(\"Gender\")[\"SN\"].count()/player_count * 100, 2)\n",
    "                           .astype('str') + \"%\"\n",
    "                           })\n",
    "gender_sum"
   ]
  },
  {
   "cell_type": "markdown",
   "execution_count": null,
   "metadata": {},
   "outputs": [],
   "source": [
    "\n",
    "## Purchasing Analysis (Gender)"
   ]
  },
  {
   "cell_type": "markdown",
   "execution_count": null,
   "metadata": {},
   "outputs": [],
   "source": [
    "* Run basic calculations to obtain purchase count, avg. purchase price, avg. purchase total per person etc. by gender\n",
    "\n",
    "\n",
    "\n",
    "\n",
    "* Create a summary data frame to hold the results\n",
    "\n",
    "\n",
    "* Optional: give the displayed data cleaner formatting\n",
    "\n",
    "\n",
    "* Display the summary data frame"
   ]
  },
  {
   "cell_type": "code",
   "execution_count": 5,
   "metadata": {},
   "outputs": [
    {
     "data": {
      "text/html": "<div>\n<style scoped>\n    .dataframe tbody tr th:only-of-type {\n        vertical-align: middle;\n    }\n\n    .dataframe tbody tr th {\n        vertical-align: top;\n    }\n\n    .dataframe thead th {\n        text-align: right;\n    }\n</style>\n<table border=\"1\" class=\"dataframe\">\n  <thead>\n    <tr style=\"text-align: right;\">\n      <th></th>\n      <th>Purchase Count</th>\n      <th>Average Purchase Price</th>\n      <th>Total Purchase Value</th>\n      <th>Average Total Purchase Per Person</th>\n    </tr>\n    <tr>\n      <th>Gender</th>\n      <th></th>\n      <th></th>\n      <th></th>\n      <th></th>\n    </tr>\n  </thead>\n  <tbody>\n    <tr>\n      <td>Female</td>\n      <td>113</td>\n      <td>$3.2</td>\n      <td>$361.94</td>\n      <td>$4.47</td>\n    </tr>\n    <tr>\n      <td>Male</td>\n      <td>652</td>\n      <td>$3.02</td>\n      <td>$1967.64</td>\n      <td>$4.07</td>\n    </tr>\n    <tr>\n      <td>Other / Non-Disclosed</td>\n      <td>15</td>\n      <td>$3.35</td>\n      <td>$50.19</td>\n      <td>$4.56</td>\n    </tr>\n  </tbody>\n</table>\n</div>",
      "text/plain": "                       Purchase Count Average Purchase Price  \\\nGender                                                         \nFemale                            113                   $3.2   \nMale                              652                  $3.02   \nOther / Non-Disclosed              15                  $3.35   \n\n                      Total Purchase Value Average Total Purchase Per Person  \nGender                                                                        \nFemale                             $361.94                             $4.47  \nMale                              $1967.64                             $4.07  \nOther / Non-Disclosed               $50.19                             $4.56  "
     },
     "execution_count": 5,
     "metadata": {},
     "output_type": "execute_result"
    }
   ],
   "source": [
    "# Generate a non-unique list of player base on gender\n",
    "nonu_gendergb = purchase_data.groupby(\"Gender\")\n",
    "# Creating variables to make table construction clearer and easier\n",
    "g_pur_count = nonu_gendergb[\"Purchase ID\"].count()\n",
    "g_avg_price = nonu_gendergb[\"Price\"].mean()\n",
    "g_tot = nonu_gendergb[\"Price\"].sum()\n",
    "# gender_df_add_total is a unique list of players with a added column of total purchase\n",
    "# is create by merging the unique list from last section and a groupby sum base on \"SN\"\n",
    "gender_df_add_total = pd.merge(uni_df, purchase_data.groupby(\"SN\")[\n",
    "                               \"Price\"].sum(), on=\"SN\")\n",
    "# Counting average on the last DF base on gender, Price_y is total price per \"SN\"\n",
    "g_avg_person = gender_df_add_total.groupby(\"Gender\")[\"Price_y\"].mean()\n",
    "\n",
    "gender_analysis_df = pd.DataFrame({\"Purchase Count\": g_pur_count,\n",
    "                                   \"Average Purchase Price\": \"$\" + round(g_avg_price, 2).astype(str),\n",
    "                                   \"Total Purchase Value\": \"$\" + round(g_tot, 2).astype(str),\n",
    "                                   \"Average Total Purchase Per Person\": \"$\" + round(g_avg_person, 2).astype(str)\n",
    "                                   })\n",
    "gender_analysis_df"
   ]
  },
  {
   "cell_type": "markdown",
   "execution_count": null,
   "metadata": {},
   "outputs": [],
   "source": [
    "## Age Demographics"
   ]
  },
  {
   "cell_type": "markdown",
   "execution_count": null,
   "metadata": {},
   "outputs": [],
   "source": [
    "* Establish bins for ages\n",
    "\n",
    "\n",
    "* Categorize the existing players using the age bins. Hint: use pd.cut()\n",
    "\n",
    "\n",
    "* Calculate the numbers and percentages by age group\n",
    "\n",
    "\n",
    "* Create a summary data frame to hold the results\n",
    "\n",
    "\n",
    "* Optional: round the percentage column to two decimal points\n",
    "\n",
    "\n",
    "* Display Age Demographics Table\n"
   ]
  },
  {
   "cell_type": "code",
   "execution_count": 6,
   "metadata": {},
   "outputs": [
    {
     "data": {
      "text/html": "<div>\n<style scoped>\n    .dataframe tbody tr th:only-of-type {\n        vertical-align: middle;\n    }\n\n    .dataframe tbody tr th {\n        vertical-align: top;\n    }\n\n    .dataframe thead th {\n        text-align: right;\n    }\n</style>\n<table border=\"1\" class=\"dataframe\">\n  <thead>\n    <tr style=\"text-align: right;\">\n      <th></th>\n      <th>Total Count</th>\n      <th>Percentage of Players</th>\n    </tr>\n  </thead>\n  <tbody>\n    <tr>\n      <td>&lt;10</td>\n      <td>17</td>\n      <td>2.95%</td>\n    </tr>\n    <tr>\n      <td>10-14</td>\n      <td>22</td>\n      <td>3.82%</td>\n    </tr>\n    <tr>\n      <td>15-19</td>\n      <td>107</td>\n      <td>18.58%</td>\n    </tr>\n    <tr>\n      <td>20-24</td>\n      <td>258</td>\n      <td>44.79%</td>\n    </tr>\n    <tr>\n      <td>25-29</td>\n      <td>77</td>\n      <td>13.37%</td>\n    </tr>\n    <tr>\n      <td>30-34</td>\n      <td>52</td>\n      <td>9.03%</td>\n    </tr>\n    <tr>\n      <td>35-39</td>\n      <td>31</td>\n      <td>5.38%</td>\n    </tr>\n    <tr>\n      <td>40+</td>\n      <td>12</td>\n      <td>2.08%</td>\n    </tr>\n  </tbody>\n</table>\n</div>",
      "text/plain": "       Total Count Percentage of Players\n<10             17                 2.95%\n10-14           22                 3.82%\n15-19          107                18.58%\n20-24          258                44.79%\n25-29           77                13.37%\n30-34           52                 9.03%\n35-39           31                 5.38%\n40+             12                 2.08%"
     },
     "execution_count": 6,
     "metadata": {},
     "output_type": "execute_result"
    }
   ],
   "source": [
    "# Creating bins and bin names\n",
    "bins = [0, 9, 14, 19, 24, 29, 34, 39, 150]\n",
    "group_names = [\"<10\", \"10-14\", \"15-19\",\n",
    "               \"20-24\", \"25-29\", \"30-34\", \"35-39\", \"40+\"]\n",
    "\n",
    "# Using the unique list from first part\n",
    "# Create a new list with each player binned into a age group\n",
    "age_df = uni_df.copy()\n",
    "age_df[\"Age Range\"] = pd.cut(uni_df[\"Age\"], bins, labels=group_names)\n",
    "\n",
    "# Create summary DF using groupby age range\n",
    "age_bin_sum = pd.DataFrame({\"Total Count\": age_df.groupby(\"Age Range\")[\"SN\"].count(),\n",
    "                            \"Percentage of Players\": round(age_df.groupby(\"Age Range\")[\"SN\"].count()/player_count * 100, 2)\n",
    "                            .astype(str) + \"%\"\n",
    "                            },\n",
    "                           index=group_names)\n",
    "age_bin_sum"
   ]
  },
  {
   "cell_type": "markdown",
   "execution_count": null,
   "metadata": {},
   "outputs": [],
   "source": [
    "## Purchasing Analysis (Age)"
   ]
  },
  {
   "cell_type": "markdown",
   "execution_count": null,
   "metadata": {},
   "outputs": [],
   "source": [
    "* Bin the purchase_data data frame by age\n",
    "\n",
    "\n",
    "* Run basic calculations to obtain purchase count, avg. purchase price, avg. purchase total per person etc. in the table below\n",
    "\n",
    "\n",
    "* Create a summary data frame to hold the results\n",
    "\n",
    "\n",
    "* Optional: give the displayed data cleaner formatting\n",
    "\n",
    "\n",
    "* Display the summary data frame"
   ]
  },
  {
   "cell_type": "code",
   "execution_count": 7,
   "metadata": {},
   "outputs": [
    {
     "data": {
      "text/html": "<div>\n<style scoped>\n    .dataframe tbody tr th:only-of-type {\n        vertical-align: middle;\n    }\n\n    .dataframe tbody tr th {\n        vertical-align: top;\n    }\n\n    .dataframe thead th {\n        text-align: right;\n    }\n</style>\n<table border=\"1\" class=\"dataframe\">\n  <thead>\n    <tr style=\"text-align: right;\">\n      <th></th>\n      <th>Purchase Count</th>\n      <th>Average Purchase Price</th>\n      <th>Total Purchase Value</th>\n      <th>Average Total Purchase Per Person</th>\n    </tr>\n    <tr>\n      <th>Age Range</th>\n      <th></th>\n      <th></th>\n      <th></th>\n      <th></th>\n    </tr>\n  </thead>\n  <tbody>\n    <tr>\n      <td>&lt;10</td>\n      <td>23</td>\n      <td>$3.35</td>\n      <td>$77.13</td>\n      <td>$4.54</td>\n    </tr>\n    <tr>\n      <td>10-14</td>\n      <td>28</td>\n      <td>$2.96</td>\n      <td>$82.78</td>\n      <td>$3.76</td>\n    </tr>\n    <tr>\n      <td>15-19</td>\n      <td>136</td>\n      <td>$3.04</td>\n      <td>$412.89</td>\n      <td>$3.86</td>\n    </tr>\n    <tr>\n      <td>20-24</td>\n      <td>365</td>\n      <td>$3.05</td>\n      <td>$1114.06</td>\n      <td>$4.32</td>\n    </tr>\n    <tr>\n      <td>25-29</td>\n      <td>101</td>\n      <td>$2.9</td>\n      <td>$293.0</td>\n      <td>$3.81</td>\n    </tr>\n    <tr>\n      <td>30-34</td>\n      <td>73</td>\n      <td>$2.93</td>\n      <td>$214.0</td>\n      <td>$4.12</td>\n    </tr>\n    <tr>\n      <td>35-39</td>\n      <td>41</td>\n      <td>$3.6</td>\n      <td>$147.67</td>\n      <td>$4.76</td>\n    </tr>\n    <tr>\n      <td>40+</td>\n      <td>13</td>\n      <td>$2.94</td>\n      <td>$38.24</td>\n      <td>$3.19</td>\n    </tr>\n  </tbody>\n</table>\n</div>",
      "text/plain": "           Purchase Count Average Purchase Price Total Purchase Value  \\\nAge Range                                                               \n<10                    23                  $3.35               $77.13   \n10-14                  28                  $2.96               $82.78   \n15-19                 136                  $3.04              $412.89   \n20-24                 365                  $3.05             $1114.06   \n25-29                 101                   $2.9               $293.0   \n30-34                  73                  $2.93               $214.0   \n35-39                  41                   $3.6              $147.67   \n40+                    13                  $2.94               $38.24   \n\n          Average Total Purchase Per Person  \nAge Range                                    \n<10                                   $4.54  \n10-14                                 $3.76  \n15-19                                 $3.86  \n20-24                                 $4.32  \n25-29                                 $3.81  \n30-34                                 $4.12  \n35-39                                 $4.76  \n40+                                   $3.19  "
     },
     "execution_count": 7,
     "metadata": {},
     "output_type": "execute_result"
    }
   ],
   "source": [
    "# Following same steps as the gender analysis\n",
    "# First create a non-unique list with a added column for binned ages\n",
    "# Then sort with groupby\n",
    "age_anly_df = purchase_data.copy()\n",
    "age_anly_df[\"Age Range\"] = pd.cut(\n",
    "    purchase_data[\"Age\"], bins, labels=group_names)\n",
    "age_gb = age_anly_df.groupby(\"Age Range\")\n",
    "\n",
    "# Creating variables to make table construction clearer and easier\n",
    "a_pur_count = age_gb[\"Purchase ID\"].count()\n",
    "a_avg_price = age_gb[\"Price\"].mean()\n",
    "a_tot = age_gb[\"Price\"].sum()\n",
    "# age_df_add_total is a unique list of players with a added column of total purchase\n",
    "# is create by merging the unique list from last section and a groupby sum base on \"SN\"\n",
    "age_df_add_total = pd.merge(age_df, purchase_data.groupby(\"SN\")[\n",
    "                            \"Price\"].sum(), on=\"SN\")\n",
    "# Counting average on the last DF base on age range, Price_y is total price per \"SN\"\n",
    "a_avg_person = age_df_add_total.groupby(\"Age Range\")[\"Price_y\"].mean()\n",
    "\n",
    "age_analysis_df = pd.DataFrame({\"Purchase Count\": a_pur_count,\n",
    "                                \"Average Purchase Price\": \"$\" + round(a_avg_price, 2).astype(str),\n",
    "                                \"Total Purchase Value\": \"$\" + round(a_tot, 2).astype(str),\n",
    "                                \"Average Total Purchase Per Person\": \"$\" + round(a_avg_person, 2).astype(str)\n",
    "                                })\n",
    "age_analysis_df"
   ]
  },
  {
   "cell_type": "markdown",
   "execution_count": null,
   "metadata": {},
   "outputs": [],
   "source": [
    "## Top Spenders"
   ]
  },
  {
   "cell_type": "markdown",
   "execution_count": null,
   "metadata": {},
   "outputs": [],
   "source": [
    "* Run basic calculations to obtain the results in the table below\n",
    "\n",
    "\n",
    "* Create a summary data frame to hold the results\n",
    "\n",
    "\n",
    "* Sort the total purchase value column in descending order\n",
    "\n",
    "\n",
    "* Optional: give the displayed data cleaner formatting\n",
    "\n",
    "\n",
    "* Display a preview of the summary data frame\n",
    "\n"
   ]
  },
  {
   "cell_type": "code",
   "execution_count": 8,
   "metadata": {},
   "outputs": [
    {
     "data": {
      "text/html": "<div>\n<style scoped>\n    .dataframe tbody tr th:only-of-type {\n        vertical-align: middle;\n    }\n\n    .dataframe tbody tr th {\n        vertical-align: top;\n    }\n\n    .dataframe thead th {\n        text-align: right;\n    }\n</style>\n<table border=\"1\" class=\"dataframe\">\n  <thead>\n    <tr style=\"text-align: right;\">\n      <th></th>\n      <th>Purchase Count</th>\n      <th>Average Purchase Price</th>\n      <th>Total Purchase Value</th>\n    </tr>\n  </thead>\n  <tbody>\n    <tr>\n      <td>Lisosia93</td>\n      <td>5</td>\n      <td>$3.79</td>\n      <td>$18.96</td>\n    </tr>\n    <tr>\n      <td>Idastidru52</td>\n      <td>4</td>\n      <td>$3.86</td>\n      <td>$15.45</td>\n    </tr>\n    <tr>\n      <td>Chamjask73</td>\n      <td>3</td>\n      <td>$4.61</td>\n      <td>$13.83</td>\n    </tr>\n    <tr>\n      <td>Iral74</td>\n      <td>4</td>\n      <td>$3.4</td>\n      <td>$13.62</td>\n    </tr>\n    <tr>\n      <td>Iskadarya95</td>\n      <td>3</td>\n      <td>$4.37</td>\n      <td>$13.1</td>\n    </tr>\n  </tbody>\n</table>\n</div>",
      "text/plain": "             Purchase Count Average Purchase Price Total Purchase Value\nLisosia93                 5                  $3.79               $18.96\nIdastidru52               4                  $3.86               $15.45\nChamjask73                3                  $4.61               $13.83\nIral74                    4                   $3.4               $13.62\nIskadarya95               3                  $4.37                $13.1"
     },
     "execution_count": 8,
     "metadata": {},
     "output_type": "execute_result"
    }
   ],
   "source": [
    "# First groupby players, then caculate the sum of thier spending, sort and return only 5 rows\n",
    "top_purchase = purchase_data.groupby(\"SN\")[\"Price\"].sum().sort_values().tail()\n",
    "# Using the top 5 \"SN\" found, to create new table with only values of the five players\n",
    "top_df = pd.merge(purchase_data, top_purchase, on=\"SN\")\n",
    "top_gb = top_df.groupby(\"SN\")\n",
    "# Create sum table by doing operation on groupby object\n",
    "top_sum = pd.DataFrame({\"Purchase Count\": top_gb[\"Purchase ID\"].count(),\n",
    "                        \"Average Purchase Price\": \"$\" + round(top_gb[\"Price_x\"].mean(), 2).astype(str),\n",
    "                        \"Total Purchase Value\": \"$\" + round(top_purchase, 2).astype(str)\n",
    "                        }).sort_values(\"Total Purchase Value\", ascending=False)\n",
    "top_sum"
   ]
  },
  {
   "cell_type": "markdown",
   "execution_count": null,
   "metadata": {},
   "outputs": [],
   "source": [
    "## Most Popular Items"
   ]
  },
  {
   "cell_type": "markdown",
   "execution_count": null,
   "metadata": {},
   "outputs": [],
   "source": [
    "* Retrieve the Item ID, Item Name, and Item Price columns\n",
    "\n",
    "\n",
    "* Group by Item ID and Item Name. Perform calculations to obtain purchase count, item price, and total purchase value\n",
    "\n",
    "\n",
    "* Create a summary data frame to hold the results\n",
    "\n",
    "\n",
    "* Sort the purchase count column in descending order\n",
    "\n",
    "\n",
    "* Optional: give the displayed data cleaner formatting\n",
    "\n",
    "\n",
    "* Display a preview of the summary data frame\n",
    "\n"
   ]
  },
  {
   "cell_type": "code",
   "execution_count": 31,
   "metadata": {},
   "outputs": [
    {
     "data": {
      "text/html": "<div>\n<style scoped>\n    .dataframe tbody tr th:only-of-type {\n        vertical-align: middle;\n    }\n\n    .dataframe tbody tr th {\n        vertical-align: top;\n    }\n\n    .dataframe thead th {\n        text-align: right;\n    }\n</style>\n<table border=\"1\" class=\"dataframe\">\n  <thead>\n    <tr style=\"text-align: right;\">\n      <th></th>\n      <th>Item Name</th>\n      <th>Purchase Count</th>\n      <th>Item Price</th>\n      <th>Total Purchase Value</th>\n    </tr>\n    <tr>\n      <th>Item ID</th>\n      <th></th>\n      <th></th>\n      <th></th>\n      <th></th>\n    </tr>\n  </thead>\n  <tbody>\n    <tr>\n      <td>178</td>\n      <td>Oathbreaker, Last Hope of the Breaking Storm</td>\n      <td>12</td>\n      <td>$4.23</td>\n      <td>$50.76</td>\n    </tr>\n    <tr>\n      <td>82</td>\n      <td>Nirvana</td>\n      <td>9</td>\n      <td>$4.9</td>\n      <td>$44.1</td>\n    </tr>\n    <tr>\n      <td>108</td>\n      <td>Extraction, Quickblade Of Trembling Hands</td>\n      <td>9</td>\n      <td>$3.53</td>\n      <td>$31.77</td>\n    </tr>\n    <tr>\n      <td>145</td>\n      <td>Fiery Glass Crusader</td>\n      <td>9</td>\n      <td>$4.58</td>\n      <td>$41.22</td>\n    </tr>\n    <tr>\n      <td>92</td>\n      <td>Final Critic</td>\n      <td>8</td>\n      <td>$4.88</td>\n      <td>$39.04</td>\n    </tr>\n  </tbody>\n</table>\n</div>",
      "text/plain": "                                            Item Name  Purchase Count  \\\nItem ID                                                                 \n178      Oathbreaker, Last Hope of the Breaking Storm              12   \n82                                            Nirvana               9   \n108         Extraction, Quickblade Of Trembling Hands               9   \n145                              Fiery Glass Crusader               9   \n92                                       Final Critic               8   \n\n        Item Price Total Purchase Value  \nItem ID                                  \n178          $4.23               $50.76  \n82            $4.9                $44.1  \n108          $3.53               $31.77  \n145          $4.58               $41.22  \n92           $4.88               $39.04  "
     },
     "execution_count": 31,
     "metadata": {},
     "output_type": "execute_result"
    }
   ],
   "source": [
    "# Similar to top five spending players\n",
    "# First generate a list of top five purchase count base on Item ID\n",
    "# There are many entries tied at 8 counts\n",
    "# Readme does not specify tie breaker so just using first that came out the my sort fuction\n",
    "top_item_count = purchase_data.groupby(\n",
    "    \"Item ID\")[\"Gender\"].count().sort_values().tail()\n",
    "# Using the top 5 item IDs found, to create new table with only values of the five items, using merge\n",
    "top_item_df = pd.merge(purchase_data, top_item_count, on=\"Item ID\")\n",
    "\n",
    "top_item_gb = top_item_df.groupby(\"Item ID\")\n",
    "# Create a referencing df indexed with Item ID\n",
    "item_id_ref = purchase_data.set_index(\"Item ID\")\n",
    "# Retrive item names using item id as indexes and create a 5 entry series by dropping duplicates\n",
    "top_item_names = item_id_ref.loc[top_item_count.index,\"Item Name\"].drop_duplicates()\n",
    "top_item_price = item_id_ref.loc[top_item_count.index,\"Price\"].drop_duplicates()\n",
    "\n",
    "top_item_sum = pd.DataFrame({\"Item Name\": top_item_names,\n",
    "                             \"Purchase Count\": top_item_gb[\"Purchase ID\"].count(),\n",
    "                             \"Item Price\": \"$\" + top_item_price.astype(str),\n",
    "                             \"Total Purchase Value\": \"$\" + round(top_item_gb[\"Price\"].sum(), 2).astype(str)\n",
    "                             }).sort_values(\"Purchase Count\", ascending=False)\n",
    "top_item_sum\n",
    "# Because of the count ties at 8 purchaes, my last entry is different from the starter results\n",
    "# Also entries 2,3,4 are tied at 9 counts and are listed diffrently from sample results"
   ]
  },
  {
   "cell_type": "markdown",
   "execution_count": null,
   "metadata": {},
   "outputs": [],
   "source": [
    "## Most Profitable Items"
   ]
  },
  {
   "cell_type": "markdown",
   "execution_count": null,
   "metadata": {},
   "outputs": [],
   "source": [
    "* Sort the above table by total purchase value in descending order\n",
    "\n",
    "\n",
    "* Optional: give the displayed data cleaner formatting\n",
    "\n",
    "\n",
    "* Display a preview of the data frame\n",
    "\n"
   ]
  },
  {
   "cell_type": "code",
   "execution_count": 33,
   "metadata": {},
   "outputs": [
    {
     "data": {
      "text/html": "<div>\n<style scoped>\n    .dataframe tbody tr th:only-of-type {\n        vertical-align: middle;\n    }\n\n    .dataframe tbody tr th {\n        vertical-align: top;\n    }\n\n    .dataframe thead th {\n        text-align: right;\n    }\n</style>\n<table border=\"1\" class=\"dataframe\">\n  <thead>\n    <tr style=\"text-align: right;\">\n      <th></th>\n      <th>Item Name</th>\n      <th>Purchase Count</th>\n      <th>Item Price</th>\n      <th>Total Purchase Value</th>\n    </tr>\n    <tr>\n      <th>Item ID</th>\n      <th></th>\n      <th></th>\n      <th></th>\n      <th></th>\n    </tr>\n  </thead>\n  <tbody>\n    <tr>\n      <td>178</td>\n      <td>Oathbreaker, Last Hope of the Breaking Storm</td>\n      <td>12</td>\n      <td>$4.23</td>\n      <td>$50.76</td>\n    </tr>\n    <tr>\n      <td>82</td>\n      <td>Nirvana</td>\n      <td>9</td>\n      <td>$4.9</td>\n      <td>$44.1</td>\n    </tr>\n    <tr>\n      <td>145</td>\n      <td>Fiery Glass Crusader</td>\n      <td>9</td>\n      <td>$4.58</td>\n      <td>$41.22</td>\n    </tr>\n    <tr>\n      <td>92</td>\n      <td>Final Critic</td>\n      <td>8</td>\n      <td>$4.88</td>\n      <td>$39.04</td>\n    </tr>\n    <tr>\n      <td>103</td>\n      <td>Singed Scalpel</td>\n      <td>8</td>\n      <td>$4.35</td>\n      <td>$34.8</td>\n    </tr>\n  </tbody>\n</table>\n</div>",
      "text/plain": "                                            Item Name  Purchase Count  \\\nItem ID                                                                 \n178      Oathbreaker, Last Hope of the Breaking Storm              12   \n82                                            Nirvana               9   \n145                              Fiery Glass Crusader               9   \n92                                       Final Critic               8   \n103                                    Singed Scalpel               8   \n\n        Item Price Total Purchase Value  \nItem ID                                  \n178          $4.23               $50.76  \n82            $4.9                $44.1  \n145          $4.58               $41.22  \n92           $4.88               $39.04  \n103          $4.35                $34.8  "
     },
     "execution_count": 33,
     "metadata": {},
     "output_type": "execute_result"
    }
   ],
   "source": [
    "# Again very similar to the last two sections\n",
    "# First generate top five list this time using the sum of prices instead\n",
    "top_item_profit = purchase_data.groupby(\n",
    "    \"Item ID\")[\"Price\"].sum().sort_values().tail()\n",
    "profit_item_df = pd.merge(purchase_data, top_item_profit, on=\"Item ID\")\n",
    "profit_item_gb = profit_item_df.groupby(\"Item ID\")\n",
    "\n",
    "# Retrive item names and price using item id as indexes and the refence df created in last section\n",
    "profit_item_names = item_id_ref.loc[top_item_profit.index,\"Item Name\"].drop_duplicates()\n",
    "profit_item_price = item_id_ref.loc[top_item_profit.index,\"Price\"].drop_duplicates()\n",
    "\n",
    "profit_item_sum = pd.DataFrame({\"Item Name\": profit_item_names,\n",
    "                                \"Purchase Count\": profit_item_gb[\"Purchase ID\"].count(),\n",
    "                                \"Item Price\": \"$\" + profit_item_price.astype(str),\n",
    "                                \"Total Purchase Value\": \"$\" + round(profit_item_gb[\"Price_x\"].sum(), 2).astype(str)\n",
    "                                }).sort_values(\"Total Purchase Value\", ascending=False)\n",
    "profit_item_sum"
   ]
  },
  {
   "cell_type": "code",
   "execution_count": 11,
   "metadata": {},
   "outputs": [],
   "source": [
    "new_df = purchase_data.set_index(\"Item ID\")\n",
    "top_item_profit.index\n",
    "a = new_df.loc[top_item_profit.index,\"Item Name\"].unique()"
   ]
  },
  {
   "cell_type": "code",
   "execution_count": null,
   "metadata": {},
   "outputs": [],
   "source": [
    "\n"
   ]
  },
  {
   "cell_type": "code",
   "execution_count": null,
   "metadata": {},
   "outputs": [],
   "source": []
  },
  {
   "cell_type": "code",
   "execution_count": null,
   "metadata": {},
   "outputs": [],
   "source": []
  }
 ],
 "metadata": {
  "anaconda-cloud": {},
  "kernel_info": {
   "name": "python3"
  },
  "kernelspec": {
   "display_name": "Python 3",
   "language": "python",
   "name": "python3"
  },
  "language_info": {
   "codemirror_mode": {
    "name": "ipython",
    "version": 3
   },
   "file_extension": ".py",
   "mimetype": "text/x-python",
   "name": "python",
   "nbconvert_exporter": "python",
   "pygments_lexer": "ipython3",
   "version": "3.7.4-final"
  },
  "latex_envs": {
   "LaTeX_envs_menu_present": true,
   "autoclose": false,
   "autocomplete": true,
   "bibliofile": "biblio.bib",
   "cite_by": "apalike",
   "current_citInitial": 1,
   "eqLabelWithNumbers": true,
   "eqNumInitial": 1,
   "hotkeys": {
    "equation": "Ctrl-E",
    "itemize": "Ctrl-I"
   },
   "labels_anchors": false,
   "latex_user_defs": false,
   "report_style_numbering": false,
   "user_envs_cfg": false
  },
  "nteract": {
   "version": "0.2.0"
  }
 },
 "nbformat": 4,
 "nbformat_minor": 2
}